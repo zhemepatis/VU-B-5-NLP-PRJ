{
 "cells": [
  {
   "cell_type": "code",
   "execution_count": null,
   "metadata": {},
   "outputs": [],
   "source": [
    "import pandas as pd\n",
    "import utilities.data_preprocessing as dp\n",
    "\n",
    "# importing data into dataframes\n",
    "movies_df = pd.read_csv(\"data/movies.csv\")\n",
    "tags_df = pd.read_csv(\"data/tags.csv\")\n",
    "links_df = pd.read_csv(\"data/links.csv\")\n",
    "ratings_df = pd.read_csv(\"data/ratings.csv\")\n",
    "movie_details_df =pd.read_csv(\"date/movie_details.csv\")"
   ]
  },
  {
   "cell_type": "markdown",
   "metadata": {},
   "source": [
    "### Fetch details of every movie **!!!DO NOT RUN IF FILE IS PRESENT!!!**"
   ]
  },
  {
   "cell_type": "code",
   "execution_count": null,
   "metadata": {},
   "outputs": [],
   "source": [
    "import utilities.data_preprocessing as dp\n",
    "import importlib\n",
    "importlib.reload(dp)\n",
    "\n",
    "movie_list = movies_df['movieId'].tolist()\n",
    "\n",
    "dp.process_movie_list(movie_list, \"access_token.json\", \"data/movie_details.csv\")"
   ]
  },
  {
   "cell_type": "markdown",
   "metadata": {},
   "source": [
    "### *movies.csv* data file preprocessing"
   ]
  },
  {
   "cell_type": "code",
   "execution_count": 3,
   "metadata": {},
   "outputs": [],
   "source": [
    "# checking data types\n",
    "movies_df[\"movieId\"] = dp.check_data_type(movies_df[\"movieId\"], int)\n",
    "movies_df[\"title\"] = dp.check_data_type(movies_df[\"title\"], str)\n",
    "movies_df[\"genres\"] = dp.check_data_type(movies_df[\"genres\"], str)\n",
    "\n",
    "movies_df = movies_df.dropna()"
   ]
  },
  {
   "cell_type": "code",
   "execution_count": 4,
   "metadata": {},
   "outputs": [
    {
     "data": {
      "text/html": [
       "<div>\n",
       "<style scoped>\n",
       "    .dataframe tbody tr th:only-of-type {\n",
       "        vertical-align: middle;\n",
       "    }\n",
       "\n",
       "    .dataframe tbody tr th {\n",
       "        vertical-align: top;\n",
       "    }\n",
       "\n",
       "    .dataframe thead th {\n",
       "        text-align: right;\n",
       "    }\n",
       "</style>\n",
       "<table border=\"1\" class=\"dataframe\">\n",
       "  <thead>\n",
       "    <tr style=\"text-align: right;\">\n",
       "      <th></th>\n",
       "      <th>movieId</th>\n",
       "      <th>title</th>\n",
       "      <th>genres</th>\n",
       "      <th>year</th>\n",
       "    </tr>\n",
       "  </thead>\n",
       "  <tbody>\n",
       "    <tr>\n",
       "      <th>0</th>\n",
       "      <td>1</td>\n",
       "      <td>Toy Story</td>\n",
       "      <td>[Adventure, Animation, Children, Comedy, Fantasy]</td>\n",
       "      <td>1995.0</td>\n",
       "    </tr>\n",
       "    <tr>\n",
       "      <th>1</th>\n",
       "      <td>2</td>\n",
       "      <td>Jumanji</td>\n",
       "      <td>[Adventure, Children, Fantasy]</td>\n",
       "      <td>1995.0</td>\n",
       "    </tr>\n",
       "    <tr>\n",
       "      <th>2</th>\n",
       "      <td>3</td>\n",
       "      <td>Grumpier Old Men</td>\n",
       "      <td>[Comedy, Romance]</td>\n",
       "      <td>1995.0</td>\n",
       "    </tr>\n",
       "    <tr>\n",
       "      <th>3</th>\n",
       "      <td>4</td>\n",
       "      <td>Waiting to Exhale</td>\n",
       "      <td>[Comedy, Drama, Romance]</td>\n",
       "      <td>1995.0</td>\n",
       "    </tr>\n",
       "    <tr>\n",
       "      <th>4</th>\n",
       "      <td>5</td>\n",
       "      <td>Father of the Bride Part II</td>\n",
       "      <td>[Comedy]</td>\n",
       "      <td>1995.0</td>\n",
       "    </tr>\n",
       "  </tbody>\n",
       "</table>\n",
       "</div>"
      ],
      "text/plain": [
       "   movieId                        title  \\\n",
       "0        1                    Toy Story   \n",
       "1        2                      Jumanji   \n",
       "2        3             Grumpier Old Men   \n",
       "3        4            Waiting to Exhale   \n",
       "4        5  Father of the Bride Part II   \n",
       "\n",
       "                                              genres    year  \n",
       "0  [Adventure, Animation, Children, Comedy, Fantasy]  1995.0  \n",
       "1                     [Adventure, Children, Fantasy]  1995.0  \n",
       "2                                  [Comedy, Romance]  1995.0  \n",
       "3                           [Comedy, Drama, Romance]  1995.0  \n",
       "4                                           [Comedy]  1995.0  "
      ]
     },
     "execution_count": 4,
     "metadata": {},
     "output_type": "execute_result"
    }
   ],
   "source": [
    "# making data more informative and convenient work with\n",
    "movies_df[\"year\"] = movies_df[\"title\"].apply(lambda value: dp.extract_movie_year(value))\n",
    "movies_df[\"title\"] = movies_df[\"title\"].apply(lambda value: dp.clean_movie_title(value))\n",
    "movies_df[\"genres\"] = movies_df[\"genres\"].apply(lambda value: dp.extract_movie_genres(value))\n",
    "\n",
    "movies_df.head()"
   ]
  },
  {
   "cell_type": "markdown",
   "metadata": {},
   "source": [
    "### *tags.csv* data file preprocessing"
   ]
  },
  {
   "cell_type": "code",
   "execution_count": 5,
   "metadata": {},
   "outputs": [],
   "source": [
    "# checking data types\n",
    "tags_df[\"userId\"] = dp.check_data_type(tags_df[\"userId\"], int)\n",
    "tags_df[\"movieId\"] = dp.check_data_type(tags_df[\"movieId\"], int)\n",
    "tags_df[\"tag\"] = dp.check_data_type(tags_df[\"tag\"], str)\n",
    "tags_df[\"timestamp\"] = dp.check_data_type(tags_df[\"timestamp\"], int)\n",
    "\n",
    "tags_df = tags_df.dropna()"
   ]
  },
  {
   "cell_type": "code",
   "execution_count": 6,
   "metadata": {},
   "outputs": [
    {
     "data": {
      "text/html": [
       "<div>\n",
       "<style scoped>\n",
       "    .dataframe tbody tr th:only-of-type {\n",
       "        vertical-align: middle;\n",
       "    }\n",
       "\n",
       "    .dataframe tbody tr th {\n",
       "        vertical-align: top;\n",
       "    }\n",
       "\n",
       "    .dataframe thead th {\n",
       "        text-align: right;\n",
       "    }\n",
       "</style>\n",
       "<table border=\"1\" class=\"dataframe\">\n",
       "  <thead>\n",
       "    <tr style=\"text-align: right;\">\n",
       "      <th></th>\n",
       "      <th>userId</th>\n",
       "      <th>movieId</th>\n",
       "      <th>tag</th>\n",
       "      <th>timestamp</th>\n",
       "    </tr>\n",
       "  </thead>\n",
       "  <tbody>\n",
       "    <tr>\n",
       "      <th>0</th>\n",
       "      <td>22</td>\n",
       "      <td>26479</td>\n",
       "      <td>kevin kline</td>\n",
       "      <td>1583038886</td>\n",
       "    </tr>\n",
       "    <tr>\n",
       "      <th>1</th>\n",
       "      <td>22</td>\n",
       "      <td>79592</td>\n",
       "      <td>misogyny</td>\n",
       "      <td>1581476297</td>\n",
       "    </tr>\n",
       "    <tr>\n",
       "      <th>2</th>\n",
       "      <td>22</td>\n",
       "      <td>247150</td>\n",
       "      <td>acrophobia</td>\n",
       "      <td>1622483469</td>\n",
       "    </tr>\n",
       "    <tr>\n",
       "      <th>3</th>\n",
       "      <td>34</td>\n",
       "      <td>2174</td>\n",
       "      <td>music</td>\n",
       "      <td>1249808064</td>\n",
       "    </tr>\n",
       "    <tr>\n",
       "      <th>4</th>\n",
       "      <td>34</td>\n",
       "      <td>2174</td>\n",
       "      <td>weird</td>\n",
       "      <td>1249808102</td>\n",
       "    </tr>\n",
       "  </tbody>\n",
       "</table>\n",
       "</div>"
      ],
      "text/plain": [
       "   userId  movieId          tag   timestamp\n",
       "0      22    26479  kevin kline  1583038886\n",
       "1      22    79592     misogyny  1581476297\n",
       "2      22   247150   acrophobia  1622483469\n",
       "3      34     2174        music  1249808064\n",
       "4      34     2174        weird  1249808102"
      ]
     },
     "execution_count": 6,
     "metadata": {},
     "output_type": "execute_result"
    }
   ],
   "source": [
    "# making data more informative and convenient work with\n",
    "tags_df[\"tag\"] = tags_df[\"tag\"].apply(lambda value: value.lower())\n",
    "\n",
    "tags_df.head()"
   ]
  },
  {
   "cell_type": "markdown",
   "metadata": {},
   "source": [
    "### *links.csv* data file preprocessing"
   ]
  },
  {
   "cell_type": "code",
   "execution_count": 12,
   "metadata": {},
   "outputs": [],
   "source": [
    "# checking data types\n",
    "links_df[\"movieId\"] = dp.check_data_type(links_df[\"movieId\"], int)\n",
    "links_df[\"imdbId\"] = dp.check_data_type(links_df[\"imdbId\"], int)\n",
    "links_df[\"tmdbId\"] = dp.check_data_type(links_df[\"tmdbId\"], int)\n",
    "\n",
    "links_df = links_df.dropna()"
   ]
  },
  {
   "cell_type": "markdown",
   "metadata": {},
   "source": [
    "### *ratings.csv* data file preprocessing"
   ]
  },
  {
   "cell_type": "code",
   "execution_count": 13,
   "metadata": {},
   "outputs": [],
   "source": [
    "# checking data types\n",
    "ratings_df[\"userId\"] = dp.check_data_type(ratings_df[\"userId\"], int)\n",
    "ratings_df[\"movieId\"] = dp.check_data_type(ratings_df[\"movieId\"], int)\n",
    "ratings_df[\"rating\"] = dp.check_data_type(ratings_df[\"rating\"], float)\n",
    "ratings_df[\"timestamp\"] = dp.check_data_type(ratings_df[\"timestamp\"], float)\n",
    "\n",
    "links_df = links_df.dropna()"
   ]
  },
  {
   "cell_type": "markdown",
   "metadata": {},
   "source": [
    "### *movie_details.csv* file preprocessing"
   ]
  },
  {
   "cell_type": "code",
   "execution_count": null,
   "metadata": {},
   "outputs": [],
   "source": [
    "import utilities.data_preprocessing as dp\n",
    "import pandas as pd\n",
    "import importlib\n",
    "import spacy\n",
    "import nltk\n",
    "from nltk.corpus import stopwords\n",
    "importlib.reload(dp)\n",
    "\n",
    "nlp = spacy.load(\"en_core_web_md\")\n",
    "nltk.download('stopwords')\n",
    "stop_words = set(stopwords.words('english'))\n",
    "\n",
    "movies_df = pd.merge(movies_df, movie_details_df, on=\"movieId\", how=\"inner\",suffixes=('_left', '_right'))\n",
    "\n",
    "movies_df = movies_df.drop(columns=['title_right', 'genres_left'])\n",
    "movies_df = movies_df.rename(columns={'title_left': 'title', 'genres_right': 'genres'})\n",
    "\n",
    "\n",
    "movies_df['overview'] = movies_df['overview'].apply(\n",
    "   lambda x: dp.preprocess_text(x, nlp, stop_words)\n",
    ")"
   ]
  },
  {
   "cell_type": "markdown",
   "metadata": {},
   "source": [
    "### Combine movies and their tags"
   ]
  },
  {
   "cell_type": "code",
   "execution_count": 7,
   "metadata": {},
   "outputs": [
    {
     "data": {
      "text/html": [
       "<div>\n",
       "<style scoped>\n",
       "    .dataframe tbody tr th:only-of-type {\n",
       "        vertical-align: middle;\n",
       "    }\n",
       "\n",
       "    .dataframe tbody tr th {\n",
       "        vertical-align: top;\n",
       "    }\n",
       "\n",
       "    .dataframe thead th {\n",
       "        text-align: right;\n",
       "    }\n",
       "</style>\n",
       "<table border=\"1\" class=\"dataframe\">\n",
       "  <thead>\n",
       "    <tr style=\"text-align: right;\">\n",
       "      <th></th>\n",
       "      <th>movieId</th>\n",
       "      <th>title</th>\n",
       "      <th>genres</th>\n",
       "      <th>year</th>\n",
       "      <th>tags</th>\n",
       "    </tr>\n",
       "  </thead>\n",
       "  <tbody>\n",
       "    <tr>\n",
       "      <th>0</th>\n",
       "      <td>1</td>\n",
       "      <td>Toy Story</td>\n",
       "      <td>[Adventure, Animation, Children, Comedy, Fantasy]</td>\n",
       "      <td>1995.0</td>\n",
       "      <td>[children, disney, animation, pixar, funny, tu...</td>\n",
       "    </tr>\n",
       "    <tr>\n",
       "      <th>1</th>\n",
       "      <td>2</td>\n",
       "      <td>Jumanji</td>\n",
       "      <td>[Adventure, Children, Fantasy]</td>\n",
       "      <td>1995.0</td>\n",
       "      <td>[robin williams, fantasy, time travel, animals...</td>\n",
       "    </tr>\n",
       "    <tr>\n",
       "      <th>2</th>\n",
       "      <td>3</td>\n",
       "      <td>Grumpier Old Men</td>\n",
       "      <td>[Comedy, Romance]</td>\n",
       "      <td>1995.0</td>\n",
       "      <td>[comedinha de velhinhos engraãƒâ§ada, comedinh...</td>\n",
       "    </tr>\n",
       "    <tr>\n",
       "      <th>3</th>\n",
       "      <td>4</td>\n",
       "      <td>Waiting to Exhale</td>\n",
       "      <td>[Comedy, Drama, Romance]</td>\n",
       "      <td>1995.0</td>\n",
       "      <td>[characters, slurs, based on novel or book, ch...</td>\n",
       "    </tr>\n",
       "    <tr>\n",
       "      <th>4</th>\n",
       "      <td>5</td>\n",
       "      <td>Father of the Bride Part II</td>\n",
       "      <td>[Comedy]</td>\n",
       "      <td>1995.0</td>\n",
       "      <td>[fantasy, pregnancy, remake, family, steve mar...</td>\n",
       "    </tr>\n",
       "  </tbody>\n",
       "</table>\n",
       "</div>"
      ],
      "text/plain": [
       "   movieId                        title  \\\n",
       "0        1                    Toy Story   \n",
       "1        2                      Jumanji   \n",
       "2        3             Grumpier Old Men   \n",
       "3        4            Waiting to Exhale   \n",
       "4        5  Father of the Bride Part II   \n",
       "\n",
       "                                              genres    year  \\\n",
       "0  [Adventure, Animation, Children, Comedy, Fantasy]  1995.0   \n",
       "1                     [Adventure, Children, Fantasy]  1995.0   \n",
       "2                                  [Comedy, Romance]  1995.0   \n",
       "3                           [Comedy, Drama, Romance]  1995.0   \n",
       "4                                           [Comedy]  1995.0   \n",
       "\n",
       "                                                tags  \n",
       "0  [children, disney, animation, pixar, funny, tu...  \n",
       "1  [robin williams, fantasy, time travel, animals...  \n",
       "2  [comedinha de velhinhos engraãƒâ§ada, comedinh...  \n",
       "3  [characters, slurs, based on novel or book, ch...  \n",
       "4  [fantasy, pregnancy, remake, family, steve mar...  "
      ]
     },
     "execution_count": 7,
     "metadata": {},
     "output_type": "execute_result"
    }
   ],
   "source": [
    "movie_tags_dict = tags_df.groupby('movieId')[\"tag\"].unique().apply(lambda group: group.tolist()).to_dict()\n",
    "movies_df['tags'] = movies_df['movieId'].apply(lambda id: movie_tags_dict.get(id, []))\n",
    "\n",
    "movies_df.head()"
   ]
  },
  {
   "cell_type": "markdown",
   "metadata": {},
   "source": [
    "# Solution 1: Recommendations based on cosine similarity"
   ]
  },
  {
   "cell_type": "markdown",
   "metadata": {},
   "source": [
    "### Combine all features into a single one"
   ]
  },
  {
   "cell_type": "code",
   "execution_count": null,
   "metadata": {},
   "outputs": [
    {
     "name": "stderr",
     "output_type": "stream",
     "text": [
      "[nltk_data] Downloading package stopwords to\n",
      "[nltk_data]     /Users/naudotojas/nltk_data...\n",
      "[nltk_data]   Package stopwords is already up-to-date!\n"
     ]
    },
    {
     "name": "stdout",
     "output_type": "stream",
     "text": [
      "   movieId                               title  \\\n",
      "0        2                      Jumanji (1995)   \n",
      "1        3             Grumpier Old Men (1995)   \n",
      "2        5  Father of the Bride Part II (1995)   \n",
      "3        6                         Heat (1995)   \n",
      "4        8                 Tom and Huck (1995)   \n",
      "\n",
      "                                   combined_features  \n",
      "0  Jumanji (1995) Comedy, Drama, Romance, Crime c...  \n",
      "1  Grumpier Old Men (1995) Comedy, Drama, Romance...  \n",
      "2  Father of the Bride Part II (1995) Comedy te b...  \n",
      "3  Heat (1995) Action, Crime, Thriller four young...  \n",
      "4  Tom and Huck (1995) Documentary timo novotny l...  \n"
     ]
    }
   ],
   "source": [
    "import utilities.data_preprocessing as dp\n",
    "import pandas as pd\n",
    "import importlib\n",
    "importlib.reload(dp)\n",
    "\n",
    "def combine_features(row):\n",
    "   features = [\n",
    "      str(row['title']), \n",
    "      str(row['release_date']),\n",
    "      str(row['genres']), \n",
    "      str(row['production_companies']), \n",
    "      str(row['overview']), \n",
    "      \" \".join(row['tags'])\n",
    "   ]\n",
    "   return \" \".join(features)\n",
    "\n",
    "movies_df['combined_features'] = movies_df.apply(combine_features, axis=1)\n",
    "movies_df = movies_df.dropna(subset=['combined_features'])\n",
    "\n",
    "print(movies_df[['movieId', 'title', 'combined_features']].head())\n",
    "\n",
    "movies_df.to_csv(\"data/movies_with_combined_features.csv\", index=False)"
   ]
  },
  {
   "cell_type": "markdown",
   "metadata": {},
   "source": [
    "## Vectorization of the combined features"
   ]
  },
  {
   "cell_type": "code",
   "execution_count": null,
   "metadata": {},
   "outputs": [
    {
     "ename": "KeyboardInterrupt",
     "evalue": "",
     "output_type": "error",
     "traceback": [
      "\u001b[0;31m---------------------------------------------------------------------------\u001b[0m",
      "\u001b[0;31mKeyboardInterrupt\u001b[0m                         Traceback (most recent call last)",
      "Cell \u001b[0;32mIn[1], line 1\u001b[0m\n\u001b[0;32m----> 1\u001b[0m \u001b[38;5;28;01mfrom\u001b[39;00m \u001b[38;5;21;01msklearn\u001b[39;00m\u001b[38;5;21;01m.\u001b[39;00m\u001b[38;5;21;01mfeature_extraction\u001b[39;00m\u001b[38;5;21;01m.\u001b[39;00m\u001b[38;5;21;01mtext\u001b[39;00m \u001b[38;5;28;01mimport\u001b[39;00m TfidfVectorizer\n\u001b[1;32m      2\u001b[0m tfidf \u001b[38;5;241m=\u001b[39m TfidfVectorizer(max_features\u001b[38;5;241m=\u001b[39m\u001b[38;5;241m6666\u001b[39m)\n\u001b[1;32m      4\u001b[0m vectorized_data \u001b[38;5;241m=\u001b[39m tfidf\u001b[38;5;241m.\u001b[39mfit_transform(movies_df[\u001b[38;5;124m'\u001b[39m\u001b[38;5;124mcombined_features\u001b[39m\u001b[38;5;124m'\u001b[39m]\u001b[38;5;241m.\u001b[39mvalues)\n",
      "File \u001b[0;32m/opt/anaconda3/envs/nlp_vu/lib/python3.11/site-packages/sklearn/__init__.py:82\u001b[0m\n\u001b[1;32m     80\u001b[0m \u001b[38;5;28;01mfrom\u001b[39;00m \u001b[38;5;21;01m.\u001b[39;00m \u001b[38;5;28;01mimport\u001b[39;00m _distributor_init  \u001b[38;5;66;03m# noqa: F401\u001b[39;00m\n\u001b[1;32m     81\u001b[0m \u001b[38;5;28;01mfrom\u001b[39;00m \u001b[38;5;21;01m.\u001b[39;00m \u001b[38;5;28;01mimport\u001b[39;00m __check_build  \u001b[38;5;66;03m# noqa: F401\u001b[39;00m\n\u001b[0;32m---> 82\u001b[0m \u001b[38;5;28;01mfrom\u001b[39;00m \u001b[38;5;21;01m.\u001b[39;00m\u001b[38;5;21;01mbase\u001b[39;00m \u001b[38;5;28;01mimport\u001b[39;00m clone\n\u001b[1;32m     83\u001b[0m \u001b[38;5;28;01mfrom\u001b[39;00m \u001b[38;5;21;01m.\u001b[39;00m\u001b[38;5;21;01mutils\u001b[39;00m\u001b[38;5;21;01m.\u001b[39;00m\u001b[38;5;21;01m_show_versions\u001b[39;00m \u001b[38;5;28;01mimport\u001b[39;00m show_versions\n\u001b[1;32m     85\u001b[0m __all__ \u001b[38;5;241m=\u001b[39m [\n\u001b[1;32m     86\u001b[0m     \u001b[38;5;124m\"\u001b[39m\u001b[38;5;124mcalibration\u001b[39m\u001b[38;5;124m\"\u001b[39m,\n\u001b[1;32m     87\u001b[0m     \u001b[38;5;124m\"\u001b[39m\u001b[38;5;124mcluster\u001b[39m\u001b[38;5;124m\"\u001b[39m,\n\u001b[0;32m   (...)\u001b[0m\n\u001b[1;32m    128\u001b[0m     \u001b[38;5;124m\"\u001b[39m\u001b[38;5;124mshow_versions\u001b[39m\u001b[38;5;124m\"\u001b[39m,\n\u001b[1;32m    129\u001b[0m ]\n",
      "File \u001b[0;32m/opt/anaconda3/envs/nlp_vu/lib/python3.11/site-packages/sklearn/base.py:13\u001b[0m\n\u001b[1;32m     10\u001b[0m \u001b[38;5;28;01mimport\u001b[39;00m \u001b[38;5;21;01minspect\u001b[39;00m\n\u001b[1;32m     11\u001b[0m \u001b[38;5;28;01mimport\u001b[39;00m \u001b[38;5;21;01mre\u001b[39;00m\n\u001b[0;32m---> 13\u001b[0m \u001b[38;5;28;01mimport\u001b[39;00m \u001b[38;5;21;01mnumpy\u001b[39;00m \u001b[38;5;28;01mas\u001b[39;00m \u001b[38;5;21;01mnp\u001b[39;00m\n\u001b[1;32m     15\u001b[0m \u001b[38;5;28;01mfrom\u001b[39;00m \u001b[38;5;21;01m.\u001b[39;00m \u001b[38;5;28;01mimport\u001b[39;00m __version__\n\u001b[1;32m     16\u001b[0m \u001b[38;5;28;01mfrom\u001b[39;00m \u001b[38;5;21;01m.\u001b[39;00m\u001b[38;5;21;01m_config\u001b[39;00m \u001b[38;5;28;01mimport\u001b[39;00m get_config\n",
      "File \u001b[0;32m/opt/anaconda3/envs/nlp_vu/lib/python3.11/site-packages/numpy/__init__.py:358\u001b[0m\n\u001b[1;32m    351\u001b[0m         msg \u001b[38;5;241m=\u001b[39m (\u001b[38;5;124m\"\u001b[39m\u001b[38;5;124mThe current Numpy installation (\u001b[39m\u001b[38;5;132;01m{!r}\u001b[39;00m\u001b[38;5;124m) fails to \u001b[39m\u001b[38;5;124m\"\u001b[39m\n\u001b[1;32m    352\u001b[0m                \u001b[38;5;124m\"\u001b[39m\u001b[38;5;124mpass simple sanity checks. This can be caused for example \u001b[39m\u001b[38;5;124m\"\u001b[39m\n\u001b[1;32m    353\u001b[0m                \u001b[38;5;124m\"\u001b[39m\u001b[38;5;124mby incorrect BLAS library being linked in, or by mixing \u001b[39m\u001b[38;5;124m\"\u001b[39m\n\u001b[1;32m    354\u001b[0m                \u001b[38;5;124m\"\u001b[39m\u001b[38;5;124mpackage managers (pip, conda, apt, ...). Search closed \u001b[39m\u001b[38;5;124m\"\u001b[39m\n\u001b[1;32m    355\u001b[0m                \u001b[38;5;124m\"\u001b[39m\u001b[38;5;124mnumpy issues for similar problems.\u001b[39m\u001b[38;5;124m\"\u001b[39m)\n\u001b[1;32m    356\u001b[0m         \u001b[38;5;28;01mraise\u001b[39;00m \u001b[38;5;167;01mRuntimeError\u001b[39;00m(msg\u001b[38;5;241m.\u001b[39mformat(\u001b[38;5;18m__file__\u001b[39m)) \u001b[38;5;28;01mfrom\u001b[39;00m \u001b[38;5;28;01mNone\u001b[39;00m\n\u001b[0;32m--> 358\u001b[0m _sanity_check()\n\u001b[1;32m    359\u001b[0m \u001b[38;5;28;01mdel\u001b[39;00m _sanity_check\n\u001b[1;32m    361\u001b[0m \u001b[38;5;28;01mdef\u001b[39;00m \u001b[38;5;21m_mac_os_check\u001b[39m():\n",
      "File \u001b[0;32m/opt/anaconda3/envs/nlp_vu/lib/python3.11/site-packages/numpy/__init__.py:348\u001b[0m, in \u001b[0;36m_sanity_check\u001b[0;34m()\u001b[0m\n\u001b[1;32m    346\u001b[0m \u001b[38;5;28;01mtry\u001b[39;00m:\n\u001b[1;32m    347\u001b[0m     x \u001b[38;5;241m=\u001b[39m ones(\u001b[38;5;241m2\u001b[39m, dtype\u001b[38;5;241m=\u001b[39mfloat32)\n\u001b[0;32m--> 348\u001b[0m     \u001b[38;5;28;01mif\u001b[39;00m \u001b[38;5;129;01mnot\u001b[39;00m \u001b[38;5;28mabs\u001b[39m(x\u001b[38;5;241m.\u001b[39mdot(x) \u001b[38;5;241m-\u001b[39m float32(\u001b[38;5;241m2.0\u001b[39m)) \u001b[38;5;241m<\u001b[39m \u001b[38;5;241m1e-5\u001b[39m:\n\u001b[1;32m    349\u001b[0m         \u001b[38;5;28;01mraise\u001b[39;00m \u001b[38;5;167;01mAssertionError\u001b[39;00m()\n\u001b[1;32m    350\u001b[0m \u001b[38;5;28;01mexcept\u001b[39;00m \u001b[38;5;167;01mAssertionError\u001b[39;00m:\n",
      "\u001b[0;31mKeyboardInterrupt\u001b[0m: "
     ]
    }
   ],
   "source": [
    "from sklearn.feature_extraction.text import TfidfVectorizer\n",
    "tfidf = TfidfVectorizer(max_features=6666)\n",
    "\n",
    "movies_combined_df = pd.read_csv(\"date/movies_with_combined_features.csv\")\n",
    "\n",
    "vectorized_data = tfidf.fit_transform(movies_combined_df['combined_features'].values)\n",
    "vectorized_dataframe = pd.DataFrame(vectorized_data.toarray(), index=movies_combined_df['combined_features'].index.tolist())\n",
    "vectorized_dataframe.shape"
   ]
  },
  {
   "cell_type": "markdown",
   "metadata": {},
   "source": [
    "## Reducing the dimension of the vectorized data"
   ]
  },
  {
   "cell_type": "code",
   "execution_count": 11,
   "metadata": {},
   "outputs": [
    {
     "data": {
      "text/plain": [
       "(50404, 3333)"
      ]
     },
     "execution_count": 11,
     "metadata": {},
     "output_type": "execute_result"
    }
   ],
   "source": [
    "from sklearn.decomposition import TruncatedSVD\n",
    "svd = TruncatedSVD(n_components=3333)\n",
    "\n",
    "reduced_data = svd.fit_transform(vectorized_dataframe)\n",
    "reduced_data.shape"
   ]
  },
  {
   "cell_type": "markdown",
   "metadata": {},
   "source": [
    "# Cosine similarity recommendation"
   ]
  },
  {
   "cell_type": "code",
   "execution_count": 13,
   "metadata": {},
   "outputs": [
    {
     "name": "stdout",
     "output_type": "stream",
     "text": [
      "Input movie:\n",
      "ID     | Title                                             \n",
      "------ | --------------------------------------------------\n",
      "329    | Star Trek: Generations (1994)                     \n",
      "\n",
      "Recommended Movies:\n",
      "ID     | Title                                             \n",
      "------ | --------------------------------------------------\n",
      "1375   | Star Trek III: The Search for Spock (1984)        \n",
      "1374   | Star Trek II: The Wrath of Khan (1982)            \n",
      "1373   | Star Trek V: The Final Frontier (1989)            \n",
      "1372   | Star Trek VI: The Undiscovered Country (1991)     \n",
      "1371   | Star Trek: The Motion Picture (1979)              \n",
      "2393   | Star Trek: Insurrection (1998)                    \n",
      "1376   | Star Trek IV: The Voyage Home (1986)              \n",
      "166528 | Rogue One: A Star Wars Story (2016)               \n",
      "122912 | Avengers: Infinity War - Part I (2018)            \n"
     ]
    }
   ],
   "source": [
    "from sklearn.metrics.pairwise import cosine_similarity\n",
    "similarity = cosine_similarity(reduced_data)\n",
    "\n",
    "def recommendation(movie_title):\n",
    "   id_of_movie = movies_df[movies_df['title'].str.contains(movie_title, case=False)].index[0]\n",
    "   \n",
    "   print(\"Input movie:\")\n",
    "   print(f\"{'ID':<6} | {'Title':<50}\")\n",
    "   print(f\"{'-'*6} | {'-'*50}\")\n",
    "   print(f\"{movies_df.iloc[id_of_movie].movieId:<6} | {movies_df.iloc[id_of_movie].title:<50}\")\n",
    "   \n",
    "   distances = similarity[id_of_movie]\n",
    "   movie_list = sorted(list(enumerate(distances)), reverse=True, key=lambda x: x[1])[1:10]\n",
    "   \n",
    "   print(\"\\nRecommended Movies:\")\n",
    "   print(f\"{'ID':<6} | {'Title':<50}\")\n",
    "   print(f\"{'-'*6} | {'-'*50}\")\n",
    "   for i in movie_list:\n",
    "      print(f\"{movies_df.iloc[i[0]].movieId:<6} | {movies_df.iloc[i[0]].title:<50}\")\n",
    "\n",
    "recommendation(\"Star trek\")\n"
   ]
  }
 ],
 "metadata": {
  "kernelspec": {
   "display_name": "nlp_vu",
   "language": "python",
   "name": "python3"
  },
  "language_info": {
   "codemirror_mode": {
    "name": "ipython",
    "version": 3
   },
   "file_extension": ".py",
   "mimetype": "text/x-python",
   "name": "python",
   "nbconvert_exporter": "python",
   "pygments_lexer": "ipython3",
   "version": "3.11.9"
  }
 },
 "nbformat": 4,
 "nbformat_minor": 2
}
