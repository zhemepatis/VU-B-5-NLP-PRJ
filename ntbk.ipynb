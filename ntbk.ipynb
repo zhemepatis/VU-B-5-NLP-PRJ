{
 "cells": [
  {
   "cell_type": "code",
   "execution_count": null,
   "metadata": {},
   "outputs": [],
   "source": [
    "import pandas as pd\n",
    "import utilities.data_preprocessing as dp\n",
    "\n",
    "# importing data into dataframes\n",
    "movies_df = pd.read_csv(\"data/movies.csv\")\n",
    "tags_df = pd.read_csv(\"data/tags.csv\")\n",
    "links_df = pd.read_csv(\"data/links.csv\")\n",
    "ratings_df = pd.read_csv(\"data/ratings.csv\")\n",
    "movie_details_df = pd.read_csv(\"data/movie_details.csv\")"
   ]
  },
  {
   "cell_type": "markdown",
   "metadata": {},
   "source": [
    "### Fetch details of every movie **!!!DO NOT RUN IF FILE IS PRESENT!!!**"
   ]
  },
  {
   "cell_type": "code",
   "execution_count": 15,
   "metadata": {},
   "outputs": [
    {
     "name": "stdout",
     "output_type": "stream",
     "text": [
      "Movie details saved to data/movie_details.csv incrementally.\n"
     ]
    }
   ],
   "source": [
    "import utilities.data_preprocessing as dp\n",
    "import importlib\n",
    "importlib.reload(dp)\n",
    "\n",
    "movie_list = movies_df['movieId'].tolist()\n",
    "\n",
    "dp.process_movie_list(movie_list, \"access_token.json\", \"data/movie_details.csv\")"
   ]
  },
  {
   "cell_type": "markdown",
   "metadata": {},
   "source": [
    "### *movies.csv* data file preprocessing"
   ]
  },
  {
   "cell_type": "code",
   "execution_count": 16,
   "metadata": {},
   "outputs": [],
   "source": [
    "# checking data types\n",
    "movies_df[\"movieId\"] = dp.check_data_type(movies_df[\"movieId\"], int)\n",
    "movies_df[\"title\"] = dp.check_data_type(movies_df[\"title\"], str)\n",
    "movies_df[\"genres\"] = dp.check_data_type(movies_df[\"genres\"], str)\n",
    "\n",
    "movies_df = movies_df.dropna()"
   ]
  },
  {
   "cell_type": "code",
   "execution_count": 17,
   "metadata": {},
   "outputs": [
    {
     "data": {
      "text/html": [
       "<div>\n",
       "<style scoped>\n",
       "    .dataframe tbody tr th:only-of-type {\n",
       "        vertical-align: middle;\n",
       "    }\n",
       "\n",
       "    .dataframe tbody tr th {\n",
       "        vertical-align: top;\n",
       "    }\n",
       "\n",
       "    .dataframe thead th {\n",
       "        text-align: right;\n",
       "    }\n",
       "</style>\n",
       "<table border=\"1\" class=\"dataframe\">\n",
       "  <thead>\n",
       "    <tr style=\"text-align: right;\">\n",
       "      <th></th>\n",
       "      <th>movieId</th>\n",
       "      <th>title</th>\n",
       "      <th>genres</th>\n",
       "      <th>year</th>\n",
       "    </tr>\n",
       "  </thead>\n",
       "  <tbody>\n",
       "    <tr>\n",
       "      <th>0</th>\n",
       "      <td>1</td>\n",
       "      <td>Toy Story</td>\n",
       "      <td>[Adventure, Animation, Children, Comedy, Fantasy]</td>\n",
       "      <td>1995.0</td>\n",
       "    </tr>\n",
       "    <tr>\n",
       "      <th>1</th>\n",
       "      <td>2</td>\n",
       "      <td>Jumanji</td>\n",
       "      <td>[Adventure, Children, Fantasy]</td>\n",
       "      <td>1995.0</td>\n",
       "    </tr>\n",
       "    <tr>\n",
       "      <th>2</th>\n",
       "      <td>3</td>\n",
       "      <td>Grumpier Old Men</td>\n",
       "      <td>[Comedy, Romance]</td>\n",
       "      <td>1995.0</td>\n",
       "    </tr>\n",
       "    <tr>\n",
       "      <th>3</th>\n",
       "      <td>4</td>\n",
       "      <td>Waiting to Exhale</td>\n",
       "      <td>[Comedy, Drama, Romance]</td>\n",
       "      <td>1995.0</td>\n",
       "    </tr>\n",
       "    <tr>\n",
       "      <th>4</th>\n",
       "      <td>5</td>\n",
       "      <td>Father of the Bride Part II</td>\n",
       "      <td>[Comedy]</td>\n",
       "      <td>1995.0</td>\n",
       "    </tr>\n",
       "  </tbody>\n",
       "</table>\n",
       "</div>"
      ],
      "text/plain": [
       "   movieId                        title  \\\n",
       "0        1                    Toy Story   \n",
       "1        2                      Jumanji   \n",
       "2        3             Grumpier Old Men   \n",
       "3        4            Waiting to Exhale   \n",
       "4        5  Father of the Bride Part II   \n",
       "\n",
       "                                              genres    year  \n",
       "0  [Adventure, Animation, Children, Comedy, Fantasy]  1995.0  \n",
       "1                     [Adventure, Children, Fantasy]  1995.0  \n",
       "2                                  [Comedy, Romance]  1995.0  \n",
       "3                           [Comedy, Drama, Romance]  1995.0  \n",
       "4                                           [Comedy]  1995.0  "
      ]
     },
     "execution_count": 17,
     "metadata": {},
     "output_type": "execute_result"
    }
   ],
   "source": [
    "# making data more informative and convenient work with\n",
    "movies_df[\"year\"] = movies_df[\"title\"].apply(lambda value: dp.extract_movie_year(value))\n",
    "movies_df[\"title\"] = movies_df[\"title\"].apply(lambda value: dp.clean_movie_title(value))\n",
    "movies_df[\"genres\"] = movies_df[\"genres\"].apply(lambda value: dp.extract_movie_genres(value))\n",
    "\n",
    "movies_df.head()"
   ]
  },
  {
   "cell_type": "markdown",
   "metadata": {},
   "source": [
    "### *tags.csv* data file preprocessing"
   ]
  },
  {
   "cell_type": "code",
   "execution_count": 18,
   "metadata": {},
   "outputs": [],
   "source": [
    "# checking data types\n",
    "tags_df[\"userId\"] = dp.check_data_type(tags_df[\"userId\"], int)\n",
    "tags_df[\"movieId\"] = dp.check_data_type(tags_df[\"movieId\"], int)\n",
    "tags_df[\"tag\"] = dp.check_data_type(tags_df[\"tag\"], str)\n",
    "tags_df[\"timestamp\"] = dp.check_data_type(tags_df[\"timestamp\"], int)\n",
    "\n",
    "tags_df = tags_df.dropna()"
   ]
  },
  {
   "cell_type": "code",
   "execution_count": 19,
   "metadata": {},
   "outputs": [
    {
     "data": {
      "text/html": [
       "<div>\n",
       "<style scoped>\n",
       "    .dataframe tbody tr th:only-of-type {\n",
       "        vertical-align: middle;\n",
       "    }\n",
       "\n",
       "    .dataframe tbody tr th {\n",
       "        vertical-align: top;\n",
       "    }\n",
       "\n",
       "    .dataframe thead th {\n",
       "        text-align: right;\n",
       "    }\n",
       "</style>\n",
       "<table border=\"1\" class=\"dataframe\">\n",
       "  <thead>\n",
       "    <tr style=\"text-align: right;\">\n",
       "      <th></th>\n",
       "      <th>userId</th>\n",
       "      <th>movieId</th>\n",
       "      <th>tag</th>\n",
       "      <th>timestamp</th>\n",
       "    </tr>\n",
       "  </thead>\n",
       "  <tbody>\n",
       "    <tr>\n",
       "      <th>0</th>\n",
       "      <td>22</td>\n",
       "      <td>26479</td>\n",
       "      <td>kevin kline</td>\n",
       "      <td>1583038886</td>\n",
       "    </tr>\n",
       "    <tr>\n",
       "      <th>1</th>\n",
       "      <td>22</td>\n",
       "      <td>79592</td>\n",
       "      <td>misogyny</td>\n",
       "      <td>1581476297</td>\n",
       "    </tr>\n",
       "    <tr>\n",
       "      <th>2</th>\n",
       "      <td>22</td>\n",
       "      <td>247150</td>\n",
       "      <td>acrophobia</td>\n",
       "      <td>1622483469</td>\n",
       "    </tr>\n",
       "    <tr>\n",
       "      <th>3</th>\n",
       "      <td>34</td>\n",
       "      <td>2174</td>\n",
       "      <td>music</td>\n",
       "      <td>1249808064</td>\n",
       "    </tr>\n",
       "    <tr>\n",
       "      <th>4</th>\n",
       "      <td>34</td>\n",
       "      <td>2174</td>\n",
       "      <td>weird</td>\n",
       "      <td>1249808102</td>\n",
       "    </tr>\n",
       "  </tbody>\n",
       "</table>\n",
       "</div>"
      ],
      "text/plain": [
       "   userId  movieId          tag   timestamp\n",
       "0      22    26479  kevin kline  1583038886\n",
       "1      22    79592     misogyny  1581476297\n",
       "2      22   247150   acrophobia  1622483469\n",
       "3      34     2174        music  1249808064\n",
       "4      34     2174        weird  1249808102"
      ]
     },
     "execution_count": 19,
     "metadata": {},
     "output_type": "execute_result"
    }
   ],
   "source": [
    "# making data more informative and convenient work with\n",
    "tags_df[\"tag\"] = tags_df[\"tag\"].apply(lambda value: value.lower())\n",
    "\n",
    "tags_df.head()"
   ]
  },
  {
   "cell_type": "markdown",
   "metadata": {},
   "source": [
    "### *links.csv* data file preprocessing"
   ]
  },
  {
   "cell_type": "code",
   "execution_count": 21,
   "metadata": {},
   "outputs": [],
   "source": [
    "# checking data types\n",
    "links_df[\"movieId\"] = dp.check_data_type(links_df[\"movieId\"], int)\n",
    "links_df[\"imdbId\"] = dp.check_data_type(links_df[\"imdbId\"], int)\n",
    "links_df[\"tmdbId\"] = dp.check_data_type(links_df[\"tmdbId\"], int)\n",
    "\n",
    "links_df = links_df.dropna()"
   ]
  },
  {
   "cell_type": "markdown",
   "metadata": {},
   "source": [
    "### *ratings.csv* data file preprocessing"
   ]
  },
  {
   "cell_type": "code",
   "execution_count": 22,
   "metadata": {},
   "outputs": [],
   "source": [
    "# checking data types\n",
    "ratings_df[\"userId\"] = dp.check_data_type(ratings_df[\"userId\"], int)\n",
    "ratings_df[\"movieId\"] = dp.check_data_type(ratings_df[\"movieId\"], int)\n",
    "ratings_df[\"rating\"] = dp.check_data_type(ratings_df[\"rating\"], float)\n",
    "ratings_df[\"timestamp\"] = dp.check_data_type(ratings_df[\"timestamp\"], float)\n",
    "\n",
    "links_df = links_df.dropna()"
   ]
  },
  {
   "cell_type": "markdown",
   "metadata": {},
   "source": [
    "### Combine movies and their tags"
   ]
  },
  {
   "cell_type": "code",
   "execution_count": 20,
   "metadata": {},
   "outputs": [
    {
     "data": {
      "text/html": [
       "<div>\n",
       "<style scoped>\n",
       "    .dataframe tbody tr th:only-of-type {\n",
       "        vertical-align: middle;\n",
       "    }\n",
       "\n",
       "    .dataframe tbody tr th {\n",
       "        vertical-align: top;\n",
       "    }\n",
       "\n",
       "    .dataframe thead th {\n",
       "        text-align: right;\n",
       "    }\n",
       "</style>\n",
       "<table border=\"1\" class=\"dataframe\">\n",
       "  <thead>\n",
       "    <tr style=\"text-align: right;\">\n",
       "      <th></th>\n",
       "      <th>movieId</th>\n",
       "      <th>title</th>\n",
       "      <th>genres</th>\n",
       "      <th>year</th>\n",
       "      <th>tags</th>\n",
       "    </tr>\n",
       "  </thead>\n",
       "  <tbody>\n",
       "    <tr>\n",
       "      <th>0</th>\n",
       "      <td>1</td>\n",
       "      <td>Toy Story</td>\n",
       "      <td>[Adventure, Animation, Children, Comedy, Fantasy]</td>\n",
       "      <td>1995.0</td>\n",
       "      <td>[children, disney, animation, pixar, funny, tu...</td>\n",
       "    </tr>\n",
       "    <tr>\n",
       "      <th>1</th>\n",
       "      <td>2</td>\n",
       "      <td>Jumanji</td>\n",
       "      <td>[Adventure, Children, Fantasy]</td>\n",
       "      <td>1995.0</td>\n",
       "      <td>[robin williams, fantasy, time travel, animals...</td>\n",
       "    </tr>\n",
       "    <tr>\n",
       "      <th>2</th>\n",
       "      <td>3</td>\n",
       "      <td>Grumpier Old Men</td>\n",
       "      <td>[Comedy, Romance]</td>\n",
       "      <td>1995.0</td>\n",
       "      <td>[comedinha de velhinhos engraãƒâ§ada, comedinh...</td>\n",
       "    </tr>\n",
       "    <tr>\n",
       "      <th>3</th>\n",
       "      <td>4</td>\n",
       "      <td>Waiting to Exhale</td>\n",
       "      <td>[Comedy, Drama, Romance]</td>\n",
       "      <td>1995.0</td>\n",
       "      <td>[characters, slurs, based on novel or book, ch...</td>\n",
       "    </tr>\n",
       "    <tr>\n",
       "      <th>4</th>\n",
       "      <td>5</td>\n",
       "      <td>Father of the Bride Part II</td>\n",
       "      <td>[Comedy]</td>\n",
       "      <td>1995.0</td>\n",
       "      <td>[fantasy, pregnancy, remake, family, steve mar...</td>\n",
       "    </tr>\n",
       "  </tbody>\n",
       "</table>\n",
       "</div>"
      ],
      "text/plain": [
       "   movieId                        title  \\\n",
       "0        1                    Toy Story   \n",
       "1        2                      Jumanji   \n",
       "2        3             Grumpier Old Men   \n",
       "3        4            Waiting to Exhale   \n",
       "4        5  Father of the Bride Part II   \n",
       "\n",
       "                                              genres    year  \\\n",
       "0  [Adventure, Animation, Children, Comedy, Fantasy]  1995.0   \n",
       "1                     [Adventure, Children, Fantasy]  1995.0   \n",
       "2                                  [Comedy, Romance]  1995.0   \n",
       "3                           [Comedy, Drama, Romance]  1995.0   \n",
       "4                                           [Comedy]  1995.0   \n",
       "\n",
       "                                                tags  \n",
       "0  [children, disney, animation, pixar, funny, tu...  \n",
       "1  [robin williams, fantasy, time travel, animals...  \n",
       "2  [comedinha de velhinhos engraãƒâ§ada, comedinh...  \n",
       "3  [characters, slurs, based on novel or book, ch...  \n",
       "4  [fantasy, pregnancy, remake, family, steve mar...  "
      ]
     },
     "execution_count": 20,
     "metadata": {},
     "output_type": "execute_result"
    }
   ],
   "source": [
    "movie_tags_dict = tags_df.groupby('movieId')[\"tag\"].unique().apply(lambda group: group.tolist()).to_dict()\n",
    "movies_df['tags'] = movies_df['movieId'].apply(lambda id: movie_tags_dict.get(id, []))\n",
    "\n",
    "movies_df.head()"
   ]
  },
  {
   "cell_type": "markdown",
   "metadata": {},
   "source": [
    "### *movie_details.csv* file preprocessing"
   ]
  },
  {
   "cell_type": "code",
   "execution_count": 23,
   "metadata": {},
   "outputs": [
    {
     "name": "stderr",
     "output_type": "stream",
     "text": [
      "[nltk_data] Downloading package stopwords to\n",
      "[nltk_data]     /Users/naudotojas/nltk_data...\n",
      "[nltk_data]   Package stopwords is already up-to-date!\n"
     ]
    }
   ],
   "source": [
    "import utilities.data_preprocessing as dp\n",
    "import pandas as pd\n",
    "import importlib\n",
    "import spacy\n",
    "import nltk\n",
    "from nltk.corpus import stopwords\n",
    "importlib.reload(dp)\n",
    "\n",
    "nlp = spacy.load(\"en_core_web_md\")\n",
    "nltk.download('stopwords')\n",
    "stop_words = set(stopwords.words('english'))\n",
    "\n",
    "movies_df = pd.merge(movies_df, movie_details_df, on=\"movieId\", how=\"inner\",suffixes=('_left', '_right'))\n",
    "\n",
    "movies_df = movies_df.drop(columns=['title_right', 'genres_left'])\n",
    "movies_df = movies_df.rename(columns={'title_left': 'title', 'genres_right': 'genres'})\n",
    "\n",
    "\n",
    "movies_df['overview'] = movies_df['overview'].apply(\n",
    "   lambda x: dp.preprocess_text(x, nlp, stop_words)\n",
    ")"
   ]
  },
  {
   "cell_type": "markdown",
   "metadata": {},
   "source": [
    "# Solution 1: Recommendations based on cosine similarity"
   ]
  },
  {
   "cell_type": "markdown",
   "metadata": {},
   "source": [
    "### Combine all features into a single one"
   ]
  },
  {
   "cell_type": "code",
   "execution_count": 24,
   "metadata": {},
   "outputs": [
    {
     "name": "stdout",
     "output_type": "stream",
     "text": [
      "   movieId                        title  \\\n",
      "0        2                      Jumanji   \n",
      "1        3             Grumpier Old Men   \n",
      "2        5  Father of the Bride Part II   \n",
      "3        6                         Heat   \n",
      "4        8                 Tom and Huck   \n",
      "\n",
      "                                   combined_features  \n",
      "0  Jumanji 1988-10-21 Comedy, Drama, Romance, Cri...  \n",
      "1  Grumpier Old Men 1986-10-17 Comedy, Drama, Rom...  \n",
      "2  Father of the Bride Part II 1995-12-09 Comedy ...  \n",
      "3  Heat 1993-10-15 Action, Crime, Thriller Largo ...  \n",
      "4  Tom and Huck 2006-01-01 Documentary inLoops ti...  \n"
     ]
    }
   ],
   "source": [
    "import utilities.data_preprocessing as dp\n",
    "import pandas as pd\n",
    "import importlib\n",
    "importlib.reload(dp)\n",
    "\n",
    "def combine_features(row):\n",
    "   features = [\n",
    "      str(row['title']), \n",
    "      str(row['release_date']),\n",
    "      str(row['genres']), \n",
    "      str(row['production_companies']), \n",
    "      str(row['overview']), \n",
    "      \" \".join(row['tags'])\n",
    "   ]\n",
    "   return \" \".join(features)\n",
    "\n",
    "movies_df['combined_features'] = movies_df.apply(combine_features, axis=1)\n",
    "movies_df = movies_df.dropna(subset=['combined_features'])\n",
    "\n",
    "print(movies_df[['movieId', 'title', 'combined_features']].head())\n",
    "\n",
    "movies_df.to_csv(\"data/movies_with_combined_features.csv\", index=False)"
   ]
  },
  {
   "cell_type": "markdown",
   "metadata": {},
   "source": [
    "## Vectorization of the combined features"
   ]
  },
  {
   "cell_type": "code",
   "execution_count": 26,
   "metadata": {},
   "outputs": [
    {
     "data": {
      "text/plain": [
       "(50404, 6666)"
      ]
     },
     "execution_count": 26,
     "metadata": {},
     "output_type": "execute_result"
    }
   ],
   "source": [
    "from sklearn.feature_extraction.text import TfidfVectorizer\n",
    "tfidf = TfidfVectorizer(max_features=6666)\n",
    "\n",
    "movies_combined_df = pd.read_csv(\"data/movies_with_combined_features.csv\")\n",
    "\n",
    "vectorized_data = tfidf.fit_transform(movies_combined_df['combined_features'].values)\n",
    "vectorized_dataframe = pd.DataFrame(vectorized_data.toarray(), index=movies_combined_df['combined_features'].index.tolist())\n",
    "vectorized_dataframe.shape"
   ]
  },
  {
   "cell_type": "markdown",
   "metadata": {},
   "source": [
    "## Reducing the dimension of the vectorized data"
   ]
  },
  {
   "cell_type": "code",
   "execution_count": 27,
   "metadata": {},
   "outputs": [
    {
     "data": {
      "text/plain": [
       "(50404, 3333)"
      ]
     },
     "execution_count": 27,
     "metadata": {},
     "output_type": "execute_result"
    }
   ],
   "source": [
    "from sklearn.decomposition import TruncatedSVD\n",
    "svd = TruncatedSVD(n_components=3333)\n",
    "\n",
    "reduced_data = svd.fit_transform(vectorized_dataframe)\n",
    "reduced_data.shape"
   ]
  },
  {
   "cell_type": "markdown",
   "metadata": {},
   "source": [
    "# Cosine similarity recommendation"
   ]
  },
  {
   "cell_type": "code",
   "execution_count": 29,
   "metadata": {},
   "outputs": [],
   "source": [
    "from sklearn.metrics.pairwise import cosine_similarity\n",
    "similarity = cosine_similarity(reduced_data)"
   ]
  },
  {
   "cell_type": "code",
   "execution_count": 35,
   "metadata": {},
   "outputs": [
    {
     "name": "stdout",
     "output_type": "stream",
     "text": [
      "Input movie:\n",
      "ID     | Title                                             \n",
      "------ | --------------------------------------------------\n",
      "329    | Star Trek: Generations                            \n",
      "\n",
      "Recommended Movies:\n",
      "ID     | Title                                             \n",
      "------ | --------------------------------------------------\n",
      "1375   | Star Trek III: The Search for Spock               \n",
      "1374   | Star Trek II: The Wrath of Khan                   \n",
      "1373   | Star Trek V: The Final Frontier                   \n",
      "1371   | Star Trek: The Motion Picture                     \n",
      "1372   | Star Trek VI: The Undiscovered Country            \n",
      "2393   | Star Trek: Insurrection                           \n",
      "1376   | Star Trek IV: The Voyage Home                     \n",
      "166528 | Rogue One: A Star Wars Story                      \n",
      "122912 | Avengers: Infinity War - Part I                   \n"
     ]
    }
   ],
   "source": [
    "def recommendation(movie_title):\n",
    "   id_of_movie = movies_combined_df[movies_df['title'].str.contains(movie_title, case=False, na=False)].index[0]\n",
    "   \n",
    "   print(\"Input movie:\")\n",
    "   print(f\"{'ID':<6} | {'Title':<50}\")\n",
    "   print(f\"{'-'*6} | {'-'*50}\")\n",
    "   print(f\"{movies_combined_df.iloc[id_of_movie].movieId:<6} | {movies_combined_df.iloc[id_of_movie].title:<50}\")\n",
    "   \n",
    "   distances = similarity[id_of_movie]\n",
    "   movie_list = sorted(list(enumerate(distances)), reverse=True, key=lambda x: x[1])[1:10]\n",
    "   \n",
    "   print(\"\\nRecommended Movies:\")\n",
    "   print(f\"{'ID':<6} | {'Title':<50}\")\n",
    "   print(f\"{'-'*6} | {'-'*50}\")\n",
    "   for i in movie_list:\n",
    "      print(f\"{movies_combined_df.iloc[i[0]].movieId:<6} | {movies_combined_df.iloc[i[0]].title:<50}\")\n",
    "\n",
    "recommendation(\"Star trek\")\n"
   ]
  }
 ],
 "metadata": {
  "kernelspec": {
   "display_name": "nlp_vu",
   "language": "python",
   "name": "python3"
  },
  "language_info": {
   "codemirror_mode": {
    "name": "ipython",
    "version": 3
   },
   "file_extension": ".py",
   "mimetype": "text/x-python",
   "name": "python",
   "nbconvert_exporter": "python",
   "pygments_lexer": "ipython3",
   "version": "3.11.9"
  }
 },
 "nbformat": 4,
 "nbformat_minor": 2
}
