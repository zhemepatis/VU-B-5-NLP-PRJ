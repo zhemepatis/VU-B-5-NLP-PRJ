{
 "cells": [
  {
   "cell_type": "code",
   "execution_count": 1,
   "metadata": {},
   "outputs": [],
   "source": [
    "import pandas as pd\n",
    "import utilities.data_preprocessing as dp"
   ]
  },
  {
   "cell_type": "code",
   "execution_count": 2,
   "metadata": {},
   "outputs": [],
   "source": [
    "import pandas as pd\n",
    "import utilities.data_preprocessing as dp\n",
    "\n",
    "# importing data into dataframes\n",
    "movies_df = pd.read_csv(\"data/movies.csv\")\n",
    "tags_df = pd.read_csv(\"data/tags.csv\")\n",
    "links_df = pd.read_csv(\"data/links.csv\")\n",
    "ratings_df = pd.read_csv(\"data/ratings.csv\")"
   ]
  },
  {
   "cell_type": "markdown",
   "metadata": {},
   "source": [
    "### *movies.csv* data file preprocessing"
   ]
  },
  {
   "cell_type": "code",
   "execution_count": 3,
   "metadata": {},
   "outputs": [],
   "source": [
    "# checking data types\n",
    "movies_df[\"movieId\"] = dp.check_data_type(movies_df[\"movieId\"], int)\n",
    "movies_df[\"title\"] = dp.check_data_type(movies_df[\"title\"], str)\n",
    "movies_df[\"genres\"] = dp.check_data_type(movies_df[\"genres\"], str)\n",
    "\n",
    "movies_df = movies_df.dropna()"
   ]
  },
  {
   "cell_type": "code",
   "execution_count": 4,
   "metadata": {},
   "outputs": [
    {
     "data": {
      "text/html": [
       "<div>\n",
       "<style scoped>\n",
       "    .dataframe tbody tr th:only-of-type {\n",
       "        vertical-align: middle;\n",
       "    }\n",
       "\n",
       "    .dataframe tbody tr th {\n",
       "        vertical-align: top;\n",
       "    }\n",
       "\n",
       "    .dataframe thead th {\n",
       "        text-align: right;\n",
       "    }\n",
       "</style>\n",
       "<table border=\"1\" class=\"dataframe\">\n",
       "  <thead>\n",
       "    <tr style=\"text-align: right;\">\n",
       "      <th></th>\n",
       "      <th>movieId</th>\n",
       "      <th>title</th>\n",
       "      <th>genres</th>\n",
       "      <th>year</th>\n",
       "    </tr>\n",
       "  </thead>\n",
       "  <tbody>\n",
       "    <tr>\n",
       "      <th>0</th>\n",
       "      <td>1</td>\n",
       "      <td>Toy Story</td>\n",
       "      <td>[Adventure, Animation, Children, Comedy, Fantasy]</td>\n",
       "      <td>1995.0</td>\n",
       "    </tr>\n",
       "    <tr>\n",
       "      <th>1</th>\n",
       "      <td>2</td>\n",
       "      <td>Jumanji</td>\n",
       "      <td>[Adventure, Children, Fantasy]</td>\n",
       "      <td>1995.0</td>\n",
       "    </tr>\n",
       "    <tr>\n",
       "      <th>2</th>\n",
       "      <td>3</td>\n",
       "      <td>Grumpier Old Men</td>\n",
       "      <td>[Comedy, Romance]</td>\n",
       "      <td>1995.0</td>\n",
       "    </tr>\n",
       "    <tr>\n",
       "      <th>3</th>\n",
       "      <td>4</td>\n",
       "      <td>Waiting to Exhale</td>\n",
       "      <td>[Comedy, Drama, Romance]</td>\n",
       "      <td>1995.0</td>\n",
       "    </tr>\n",
       "    <tr>\n",
       "      <th>4</th>\n",
       "      <td>5</td>\n",
       "      <td>Father of the Bride Part II</td>\n",
       "      <td>[Comedy]</td>\n",
       "      <td>1995.0</td>\n",
       "    </tr>\n",
       "  </tbody>\n",
       "</table>\n",
       "</div>"
      ],
      "text/plain": [
       "   movieId                        title  \\\n",
       "0        1                    Toy Story   \n",
       "1        2                      Jumanji   \n",
       "2        3             Grumpier Old Men   \n",
       "3        4            Waiting to Exhale   \n",
       "4        5  Father of the Bride Part II   \n",
       "\n",
       "                                              genres    year  \n",
       "0  [Adventure, Animation, Children, Comedy, Fantasy]  1995.0  \n",
       "1                     [Adventure, Children, Fantasy]  1995.0  \n",
       "2                                  [Comedy, Romance]  1995.0  \n",
       "3                           [Comedy, Drama, Romance]  1995.0  \n",
       "4                                           [Comedy]  1995.0  "
      ]
     },
     "execution_count": 4,
     "metadata": {},
     "output_type": "execute_result"
    }
   ],
   "source": [
    "# making data more informative and convenient work with\n",
    "movies_df[\"year\"] = movies_df[\"title\"].apply(lambda value: dp.extract_movie_year(value))\n",
    "movies_df[\"title\"] = movies_df[\"title\"].apply(lambda value: dp.clean_movie_title(value))\n",
    "movies_df[\"genres\"] = movies_df[\"genres\"].apply(lambda value: dp.extract_movie_genres(value))\n",
    "\n",
    "movies_df.head()"
   ]
  },
  {
   "cell_type": "markdown",
   "metadata": {},
   "source": [
    "### *tags.csv* data file preprocessing"
   ]
  },
  {
   "cell_type": "code",
   "execution_count": 5,
   "metadata": {},
   "outputs": [],
   "source": [
    "# checking data types\n",
    "tags_df[\"userId\"] = dp.check_data_type(tags_df[\"userId\"], int)\n",
    "tags_df[\"movieId\"] = dp.check_data_type(tags_df[\"movieId\"], int)\n",
    "tags_df[\"tag\"] = dp.check_data_type(tags_df[\"tag\"], str)\n",
    "tags_df[\"timestamp\"] = dp.check_data_type(tags_df[\"timestamp\"], int)\n",
    "\n",
    "tags_df = tags_df.dropna()"
   ]
  },
  {
   "cell_type": "code",
   "execution_count": 6,
   "metadata": {},
   "outputs": [
    {
     "data": {
      "text/html": [
       "<div>\n",
       "<style scoped>\n",
       "    .dataframe tbody tr th:only-of-type {\n",
       "        vertical-align: middle;\n",
       "    }\n",
       "\n",
       "    .dataframe tbody tr th {\n",
       "        vertical-align: top;\n",
       "    }\n",
       "\n",
       "    .dataframe thead th {\n",
       "        text-align: right;\n",
       "    }\n",
       "</style>\n",
       "<table border=\"1\" class=\"dataframe\">\n",
       "  <thead>\n",
       "    <tr style=\"text-align: right;\">\n",
       "      <th></th>\n",
       "      <th>userId</th>\n",
       "      <th>movieId</th>\n",
       "      <th>tag</th>\n",
       "      <th>timestamp</th>\n",
       "    </tr>\n",
       "  </thead>\n",
       "  <tbody>\n",
       "    <tr>\n",
       "      <th>0</th>\n",
       "      <td>22</td>\n",
       "      <td>26479</td>\n",
       "      <td>kevin kline</td>\n",
       "      <td>1583038886</td>\n",
       "    </tr>\n",
       "    <tr>\n",
       "      <th>1</th>\n",
       "      <td>22</td>\n",
       "      <td>79592</td>\n",
       "      <td>misogyny</td>\n",
       "      <td>1581476297</td>\n",
       "    </tr>\n",
       "    <tr>\n",
       "      <th>2</th>\n",
       "      <td>22</td>\n",
       "      <td>247150</td>\n",
       "      <td>acrophobia</td>\n",
       "      <td>1622483469</td>\n",
       "    </tr>\n",
       "    <tr>\n",
       "      <th>3</th>\n",
       "      <td>34</td>\n",
       "      <td>2174</td>\n",
       "      <td>music</td>\n",
       "      <td>1249808064</td>\n",
       "    </tr>\n",
       "    <tr>\n",
       "      <th>4</th>\n",
       "      <td>34</td>\n",
       "      <td>2174</td>\n",
       "      <td>weird</td>\n",
       "      <td>1249808102</td>\n",
       "    </tr>\n",
       "  </tbody>\n",
       "</table>\n",
       "</div>"
      ],
      "text/plain": [
       "   userId  movieId          tag   timestamp\n",
       "0      22    26479  kevin kline  1583038886\n",
       "1      22    79592     misogyny  1581476297\n",
       "2      22   247150   acrophobia  1622483469\n",
       "3      34     2174        music  1249808064\n",
       "4      34     2174        weird  1249808102"
      ]
     },
     "execution_count": 6,
     "metadata": {},
     "output_type": "execute_result"
    }
   ],
   "source": [
    "# making data more informative and convenient work with\n",
    "tags_df[\"tag\"] = tags_df[\"tag\"].apply(lambda value: value.lower())\n",
    "\n",
    "tags_df.head()"
   ]
  },
  {
   "cell_type": "markdown",
   "metadata": {},
   "source": [
    "### *links.csv* data file preprocessing"
   ]
  },
  {
   "cell_type": "code",
   "execution_count": 7,
   "metadata": {},
   "outputs": [],
   "source": [
    "# checking data types\n",
    "links_df[\"movieId\"] = dp.check_data_type(links_df[\"movieId\"], int)\n",
    "links_df[\"imdbId\"] = dp.check_data_type(links_df[\"imdbId\"], int)\n",
    "links_df[\"tmdbId\"] = dp.check_data_type(links_df[\"tmdbId\"], int)\n",
    "\n",
    "links_df = links_df.dropna()"
   ]
  },
  {
   "cell_type": "markdown",
   "metadata": {},
   "source": [
    "### *ratings.csv* data file preprocessing"
   ]
  },
  {
   "cell_type": "code",
   "execution_count": 8,
   "metadata": {},
   "outputs": [],
   "source": [
    "# checking data types\n",
    "ratings_df[\"userId\"] = dp.check_data_type(ratings_df[\"userId\"], int)\n",
    "ratings_df[\"movieId\"] = dp.check_data_type(ratings_df[\"movieId\"], int)\n",
    "ratings_df[\"rating\"] = dp.check_data_type(ratings_df[\"rating\"], float)\n",
    "ratings_df[\"timestamp\"] = dp.check_data_type(ratings_df[\"timestamp\"], float)\n",
    "\n",
    "links_df = links_df.dropna()"
   ]
  },
  {
   "cell_type": "markdown",
   "metadata": {},
   "source": [
    "### Combine movies and their tags"
   ]
  },
  {
   "cell_type": "code",
   "execution_count": 9,
   "metadata": {},
   "outputs": [
    {
     "data": {
      "text/html": [
       "<div>\n",
       "<style scoped>\n",
       "    .dataframe tbody tr th:only-of-type {\n",
       "        vertical-align: middle;\n",
       "    }\n",
       "\n",
       "    .dataframe tbody tr th {\n",
       "        vertical-align: top;\n",
       "    }\n",
       "\n",
       "    .dataframe thead th {\n",
       "        text-align: right;\n",
       "    }\n",
       "</style>\n",
       "<table border=\"1\" class=\"dataframe\">\n",
       "  <thead>\n",
       "    <tr style=\"text-align: right;\">\n",
       "      <th></th>\n",
       "      <th>movieId</th>\n",
       "      <th>title</th>\n",
       "      <th>genres</th>\n",
       "      <th>year</th>\n",
       "      <th>tags</th>\n",
       "    </tr>\n",
       "  </thead>\n",
       "  <tbody>\n",
       "    <tr>\n",
       "      <th>0</th>\n",
       "      <td>1</td>\n",
       "      <td>Toy Story</td>\n",
       "      <td>[Adventure, Animation, Children, Comedy, Fantasy]</td>\n",
       "      <td>1995.0</td>\n",
       "      <td>[children, disney, animation, pixar, funny, tu...</td>\n",
       "    </tr>\n",
       "    <tr>\n",
       "      <th>1</th>\n",
       "      <td>2</td>\n",
       "      <td>Jumanji</td>\n",
       "      <td>[Adventure, Children, Fantasy]</td>\n",
       "      <td>1995.0</td>\n",
       "      <td>[robin williams, fantasy, time travel, animals...</td>\n",
       "    </tr>\n",
       "    <tr>\n",
       "      <th>2</th>\n",
       "      <td>3</td>\n",
       "      <td>Grumpier Old Men</td>\n",
       "      <td>[Comedy, Romance]</td>\n",
       "      <td>1995.0</td>\n",
       "      <td>[comedinha de velhinhos engraãƒâ§ada, comedinh...</td>\n",
       "    </tr>\n",
       "    <tr>\n",
       "      <th>3</th>\n",
       "      <td>4</td>\n",
       "      <td>Waiting to Exhale</td>\n",
       "      <td>[Comedy, Drama, Romance]</td>\n",
       "      <td>1995.0</td>\n",
       "      <td>[characters, slurs, based on novel or book, ch...</td>\n",
       "    </tr>\n",
       "    <tr>\n",
       "      <th>4</th>\n",
       "      <td>5</td>\n",
       "      <td>Father of the Bride Part II</td>\n",
       "      <td>[Comedy]</td>\n",
       "      <td>1995.0</td>\n",
       "      <td>[fantasy, pregnancy, remake, family, steve mar...</td>\n",
       "    </tr>\n",
       "  </tbody>\n",
       "</table>\n",
       "</div>"
      ],
      "text/plain": [
       "   movieId                        title  \\\n",
       "0        1                    Toy Story   \n",
       "1        2                      Jumanji   \n",
       "2        3             Grumpier Old Men   \n",
       "3        4            Waiting to Exhale   \n",
       "4        5  Father of the Bride Part II   \n",
       "\n",
       "                                              genres    year  \\\n",
       "0  [Adventure, Animation, Children, Comedy, Fantasy]  1995.0   \n",
       "1                     [Adventure, Children, Fantasy]  1995.0   \n",
       "2                                  [Comedy, Romance]  1995.0   \n",
       "3                           [Comedy, Drama, Romance]  1995.0   \n",
       "4                                           [Comedy]  1995.0   \n",
       "\n",
       "                                                tags  \n",
       "0  [children, disney, animation, pixar, funny, tu...  \n",
       "1  [robin williams, fantasy, time travel, animals...  \n",
       "2  [comedinha de velhinhos engraãƒâ§ada, comedinh...  \n",
       "3  [characters, slurs, based on novel or book, ch...  \n",
       "4  [fantasy, pregnancy, remake, family, steve mar...  "
      ]
     },
     "execution_count": 9,
     "metadata": {},
     "output_type": "execute_result"
    }
   ],
   "source": [
    "movie_tags_dict = tags_df.groupby('movieId')[\"tag\"].unique().apply(lambda group: group.tolist()).to_dict()\n",
    "movies_df['tags'] = movies_df['movieId'].apply(lambda id: movie_tags_dict.get(id, []))\n",
    "\n",
    "movies_df.head()"
   ]
  },
  {
   "cell_type": "markdown",
   "metadata": {},
   "source": [
    "### Fetch the details of every movie"
   ]
  },
  {
   "cell_type": "code",
   "execution_count": 10,
   "metadata": {},
   "outputs": [
    {
     "name": "stdout",
     "output_type": "stream",
     "text": [
      "{'adult': False, 'backdrop_path': '/eeMoFKxjjiCi6iep2GEZtSAMYIr.jpg', 'belongs_to_collection': None, 'budget': 5300000, 'genres': [{'id': 18, 'name': 'Drama'}, {'id': 878, 'name': 'Science Fiction'}], 'homepage': '', 'id': 19, 'imdb_id': 'tt0017136', 'origin_country': ['DE'], 'original_language': 'de', 'original_title': 'Metropolis', 'overview': \"In a futuristic city sharply divided between the rich and the poor, the son of the city's mastermind meets a prophet who predicts the coming of a savior to mediate their differences.\", 'popularity': 19.965, 'poster_path': '/vZIJxGnjcswPCAa52jhbl01FQkV.jpg', 'production_companies': [{'id': 12372, 'logo_path': '/lcQScIQXHQXuLMLFQt0loJl5gWJ.png', 'name': 'UFA', 'origin_country': 'DE'}], 'production_countries': [{'iso_3166_1': 'DE', 'name': 'Germany'}], 'release_date': '1927-02-06', 'revenue': 1350322, 'runtime': 148, 'spoken_languages': [{'english_name': 'No Language', 'iso_639_1': 'xx', 'name': 'No Language'}], 'status': 'Released', 'tagline': 'There can be no understanding between the hands and the brain unless the heart acts as mediator.', 'title': 'Metropolis', 'video': False, 'vote_average': 8.117, 'vote_count': 2755}\n"
     ]
    }
   ],
   "source": [
    "import utilities.data_preprocessing as dp\n",
    "import importlib\n",
    "import json\n",
    "importlib.reload(dp)\n",
    "\n",
    "with open(\"access_token.json\", 'r') as file:\n",
    "        data = json.load(file)\n",
    "        access_token = data.get(\"access_token\")\n",
    "\n",
    "response = dp.get_movie_details(19,access_token)\n",
    "\n",
    "print(response)"
   ]
  },
  {
   "cell_type": "markdown",
   "metadata": {},
   "source": [
    "## **!!!DO NOT RUN IF FILE IS PRESENT!!!**"
   ]
  },
  {
   "cell_type": "code",
   "execution_count": 12,
   "metadata": {},
   "outputs": [
    {
     "name": "stdout",
     "output_type": "stream",
     "text": [
      "Movie details saved to data/movie_details.csv incrementally.\n"
     ]
    }
   ],
   "source": [
    "import utilities.data_preprocessing as dp\n",
    "import importlib\n",
    "importlib.reload(dp)\n",
    "\n",
    "movie_list = movies_df['movieId'].tolist()\n",
    "\n",
    "dp.process_movie_list(movie_list, \"access_token.json\", \"data/movie_details.csv\")"
   ]
  },
  {
   "cell_type": "markdown",
   "metadata": {},
   "source": [
    "# Solution 1: Recommendations based on cosine similarity"
   ]
  },
  {
   "cell_type": "markdown",
   "metadata": {},
   "source": [
    "### Combine all features into a single one"
   ]
  },
  {
   "cell_type": "code",
   "execution_count": 11,
   "metadata": {},
   "outputs": [
    {
     "name": "stderr",
     "output_type": "stream",
     "text": [
      "[nltk_data] Downloading package stopwords to\n",
      "[nltk_data]     C:\\Users\\gabri\\AppData\\Roaming\\nltk_data...\n",
      "[nltk_data]   Package stopwords is already up-to-date!\n"
     ]
    },
    {
     "name": "stdout",
     "output_type": "stream",
     "text": [
      "   movieId                               title  \\\n",
      "0        2                      Jumanji (1995)   \n",
      "1        3             Grumpier Old Men (1995)   \n",
      "2        5  Father of the Bride Part II (1995)   \n",
      "3        6                         Heat (1995)   \n",
      "4        8                 Tom and Huck (1995)   \n",
      "\n",
      "                                   combined_features  \n",
      "0  Jumanji (1995) Comedy, Drama, Romance, Crime V...  \n",
      "1  Grumpier Old Men (1995) Comedy, Drama, Romance...  \n",
      "2  Father of the Bride Part II (1995) Comedy Mira...  \n",
      "3  Heat (1995) Action, Crime, Thriller Largo Ente...  \n",
      "4  Tom and Huck (1995) Documentary inLoops timo n...  \n"
     ]
    }
   ],
   "source": [
    "import utilities.data_preprocessing as dp\n",
    "import pandas as pd\n",
    "import importlib\n",
    "import spacy\n",
    "import nltk\n",
    "from nltk.corpus import stopwords\n",
    "importlib.reload(dp)\n",
    "\n",
    "nlp = spacy.load(\"en_core_web_md\")\n",
    "nltk.download('stopwords')\n",
    "stop_words = set(stopwords.words('english'))\n",
    "\n",
    "\n",
    "movies_df = pd.read_csv(\"data/movies.csv\")\n",
    "movie_details_df = pd.read_csv(\"data/movie_details.csv\")\n",
    "tags_df = pd.read_csv(\"data/tags.csv\")\n",
    "\n",
    "\n",
    "tags_df[\"tag\"] = dp.check_data_type(tags_df[\"tag\"], str)\n",
    "tags_df = tags_df.dropna()\n",
    "tags_df[\"tag\"] = tags_df[\"tag\"].apply(lambda value: value.lower())\n",
    "\n",
    "\n",
    "movie_tags_dict = tags_df.groupby('movieId')[\"tag\"].unique().apply(lambda group: group.tolist()).to_dict()\n",
    "movies_df['tags'] = movies_df['movieId'].apply(lambda id: movie_tags_dict.get(id, []))\n",
    "\n",
    "\n",
    "movies_df = pd.merge(movies_df, movie_details_df, on=\"movieId\", how=\"inner\",suffixes=('_left', '_right'))\n",
    "\n",
    "movies_df = movies_df.drop(columns=['title_right', 'genres_left'])\n",
    "movies_df = movies_df.rename(columns={'title_left': 'title', 'genres_right': 'genres'})\n",
    "\n",
    "\n",
    "movies_df['overview'] = movies_df['overview'].apply(\n",
    "   lambda x: dp.preprocess_text(x, nlp, stop_words)\n",
    ")\n",
    "\n",
    "\n",
    "def combine_features(row):\n",
    "   features = [\n",
    "      str(row['title']), \n",
    "      str(row['genres']), \n",
    "      str(row['production_companies']), \n",
    "      str(row['overview']), \n",
    "      \" \".join(row['tags'])\n",
    "   ]\n",
    "   return \" \".join(features)\n",
    "\n",
    "movies_df['combined_features'] = movies_df.apply(combine_features, axis=1)\n",
    "movies_df = movies_df.dropna(subset=['combined_features'])\n",
    "\n",
    "print(movies_df[['movieId', 'title', 'combined_features']].head())\n",
    "\n",
    "movies_df.to_csv(\"data/movies_with_combined_features.csv\", index=False)"
   ]
  },
  {
   "cell_type": "markdown",
   "metadata": {},
   "source": [
    "## Vectorization of the combined features"
   ]
  },
  {
   "cell_type": "code",
   "execution_count": 12,
   "metadata": {},
   "outputs": [
    {
     "data": {
      "text/plain": [
       "(50404, 6666)"
      ]
     },
     "execution_count": 12,
     "metadata": {},
     "output_type": "execute_result"
    }
   ],
   "source": [
    "from sklearn.feature_extraction.text import TfidfVectorizer\n",
    "tfidf = TfidfVectorizer(max_features=6666)\n",
    "\n",
    "vectorized_data = tfidf.fit_transform(movies_df['combined_features'].values)\n",
    "vectorized_dataframe = pd.DataFrame(vectorized_data.toarray(), index=movies_df['combined_features'].index.tolist())\n",
    "vectorized_dataframe.shape"
   ]
  },
  {
   "cell_type": "markdown",
   "metadata": {},
   "source": [
    "## Reducing the dimension of the vectorized data"
   ]
  },
  {
   "cell_type": "code",
   "execution_count": 13,
   "metadata": {},
   "outputs": [
    {
     "data": {
      "text/plain": [
       "(50404, 2222)"
      ]
     },
     "execution_count": 13,
     "metadata": {},
     "output_type": "execute_result"
    }
   ],
   "source": [
    "from sklearn.decomposition import TruncatedSVD\n",
    "svd = TruncatedSVD(n_components=2222)\n",
    "\n",
    "reduced_data = svd.fit_transform(vectorized_dataframe)\n",
    "reduced_data.shape"
   ]
  },
  {
   "cell_type": "markdown",
   "metadata": {},
   "source": [
    "# Cosine similarity recommendation"
   ]
  },
  {
   "cell_type": "code",
   "execution_count": 14,
   "metadata": {},
   "outputs": [
    {
     "name": "stdout",
     "output_type": "stream",
     "text": [
      "2001: A Space Odyssey (1968)\n",
      "Rogue One: A Star Wars Story (2016)\n",
      "Star Wars: Episode VII - The Force Awakens (2015)\n",
      "Lord of the Rings: The Fellowship of the Ring, The (2001)\n",
      "Lord of the Rings: The Two Towers, The (2002)\n",
      "Gravity (2013)\n",
      "Space Sweepers (2021)\n",
      "Jupiter Ascending (2015)\n",
      "Dark Star (1974)\n"
     ]
    }
   ],
   "source": [
    "from sklearn.metrics.pairwise import cosine_similarity\n",
    "similarity = cosine_similarity(reduced_data)\n",
    "\n",
    "def recommendation(movie_title):\n",
    "   id_of_movie = movies_df[movies_df['title'].str.contains(movie_title,case=False)].index[0]\n",
    "   distances = similarity[id_of_movie]\n",
    "   movie_list = sorted(list(enumerate(distances)), reverse=True, key=lambda x:x[1])[1:10]\n",
    "   \n",
    "   for i in movie_list:\n",
    "      print(movies_df.iloc[i[0]].title)\n",
    "\n",
    "recommendation(\"Star wars\")"
   ]
  },
  {
   "cell_type": "code",
   "execution_count": null,
   "metadata": {},
   "outputs": [],
   "source": [
    "import pandas as pd\n",
    "from sklearn.feature_extraction.text import TfidfVectorizer\n",
    "from sklearn.metrics.pairwise import cosine_similarity\n",
    "\n",
    "ratings_df = pd.read_csv(\"data/ratings.csv\")\n",
    "tags_df = pd.read_csv(\"data/tags.csv\")\n",
    "movies_df = pd.read_csv(\"data/movies.csv\")\n",
    "\n",
    "tags_df['tag'] = tags_df['tag'].fillna(\"\").astype(str)\n",
    "\n",
    "tags_combined = tags_df.groupby('movieId')['tag'].apply(lambda tags: \" \".join(tags)).reset_index()\n",
    "\n",
    "movies_with_tags = pd.merge(movies_df, tags_combined, on='movieId', how='left')\n",
    "movies_with_tags['tag'] = movies_with_tags['tag'].fillna(\"\")"
   ]
  },
  {
   "cell_type": "code",
   "execution_count": 43,
   "metadata": {},
   "outputs": [],
   "source": [
    "def get_user_liked_movies(user_id, threshold=4.0):\n",
    "    liked_movies = ratings_df[(ratings_df['userId'] == user_id) & (ratings_df['rating'] >= threshold)]['movieId']\n",
    "    return movies_with_tags[movies_with_tags['movieId'].isin(liked_movies)]\n"
   ]
  },
  {
   "cell_type": "code",
   "execution_count": null,
   "metadata": {},
   "outputs": [],
   "source": [
    "from collections import Counter\n",
    "\n",
    "def build_user_profile(liked_movies, top_n_tags=5, max_repeats=5):\n",
    "    tags_combined = \" \".join(liked_movies['tag'])\n",
    "    tag_counts = Counter(tags_combined.split())\n",
    "    \n",
    "    limited_tag_counts = {tag: min(count, max_repeats) for tag, count in tag_counts.items()}\n",
    "    \n",
    "    limited_tags = \" \".join([tag for tag, count in limited_tag_counts.items() for _ in range(count)])\n",
    "    \n",
    "    most_common_tags = Counter(limited_tags.split()).most_common(top_n_tags)\n",
    "    user_profile = \" \".join([tag for tag, _ in most_common_tags])\n",
    "    \n",
    "    return user_profile\n"
   ]
  },
  {
   "cell_type": "code",
   "execution_count": null,
   "metadata": {},
   "outputs": [],
   "source": [
    "def build_user_profile_normalized(liked_movies, top_n_tags=5):\n",
    "    tags_combined = \" \".join(liked_movies['tag'])\n",
    "    tag_counts = Counter(tags_combined.split())\n",
    "    \n",
    "    total_tags = sum(tag_counts.values())\n",
    "    normalized_tags = {tag: count / total_tags for tag, count in tag_counts.items()}\n",
    "    \n",
    "    most_common_tags = sorted(normalized_tags.items(), key=lambda x: x[1], reverse=True)[:top_n_tags]\n",
    "    user_profile = \" \".join([tag for tag, _ in most_common_tags])\n",
    "    \n",
    "    return user_profile\n"
   ]
  },
  {
   "cell_type": "code",
   "execution_count": null,
   "metadata": {},
   "outputs": [],
   "source": [
    "def calculate_similarity(user_profile, movie_tags):\n",
    "    unique_user_tags = set(user_profile.split())\n",
    "    tag_weights = {tag: user_profile.split().count(tag) ** -0.5 for tag in unique_user_tags}\n",
    "    \n",
    "    overlap_score = sum(tag_weights.get(tag, 0) for tag in movie_tags.split())\n",
    "    return overlap_score\n"
   ]
  },
  {
   "cell_type": "code",
   "execution_count": null,
   "metadata": {},
   "outputs": [],
   "source": [
    "def recommend_movies_by_user_tags(user_id, top_n=5, top_n_tags=50, verbose=False):\n",
    "    liked_movies = get_user_liked_movies(user_id)\n",
    "    if verbose:\n",
    "        print(f\"Movies liked by User {user_id}:\\n{liked_movies[['title', 'tag']]}\\n\")\n",
    "    \n",
    "    user_profile = build_user_profile(liked_movies, top_n_tags=top_n_tags)\n",
    "    if verbose:\n",
    "        print(f\"User {user_id} preference profile (tags combined):\\n{user_profile}\\n\")\n",
    "    \n",
    "    tfidf = TfidfVectorizer(max_features=5000)\n",
    "    tfidf_input = pd.concat([movies_with_tags['tag'], pd.Series(user_profile)], ignore_index=True)\n",
    "    tfidf_matrix = tfidf.fit_transform(tfidf_input)\n",
    "    \n",
    "    user_profile_vector = tfidf_matrix[-1] \n",
    "    movie_vectors = tfidf_matrix[:-1]    \n",
    "    similarity_scores = cosine_similarity(user_profile_vector, movie_vectors)[0]\n",
    "    \n",
    "    movies_with_tags['similarity'] = similarity_scores\n",
    "    recommended_movies = movies_with_tags[~movies_with_tags['movieId'].isin(liked_movies['movieId'])]\n",
    "    recommended_movies = recommended_movies.sort_values(by='similarity', ascending=False).head(top_n)\n",
    "    \n",
    "    return recommended_movies[['title', 'similarity']]\n"
   ]
  },
  {
   "cell_type": "code",
   "execution_count": null,
   "metadata": {},
   "outputs": [
    {
     "name": "stdout",
     "output_type": "stream",
     "text": [
      "Movies liked by User 22:\n",
      "                                                   title  \\\n",
      "257            Star Wars: Episode IV - A New Hope (1977)   \n",
      "314                     Shawshank Redemption, The (1994)   \n",
      "466                          Hudsucker Proxy, The (1994)   \n",
      "545               Nightmare Before Christmas, The (1993)   \n",
      "729               Wallace & Gromit: A Close Shave (1995)   \n",
      "1108              Monty Python and the Holy Grail (1975)   \n",
      "1120         Wallace & Gromit: The Wrong Trousers (1993)   \n",
      "1166   Star Wars: Episode V - The Empire Strikes Back...   \n",
      "1167                          Princess Bride, The (1987)   \n",
      "1168   Raiders of the Lost Ark (Indiana Jones and the...   \n",
      "1173                                 12 Angry Men (1957)   \n",
      "1358                              Raising Arizona (1987)   \n",
      "1527                                      Contact (1997)   \n",
      "1666                            Big Lebowski, The (1998)   \n",
      "3924                   O Brother, Where Art Thou? (2000)   \n",
      "4868   Amelie (Fabuleux destin d'Amélie Poulain, Le) ...   \n",
      "4874                        Royal Tenenbaums, The (2001)   \n",
      "4888   Lord of the Rings: The Fellowship of the Ring,...   \n",
      "5841       Lord of the Rings: The Two Towers, The (2002)   \n",
      "6417   Pirates of the Caribbean: The Curse of the Bla...   \n",
      "6812                                          Elf (2003)   \n",
      "8161                            Shaun of the Dead (2004)   \n",
      "14338                              Shutter Island (2010)   \n",
      "14939                                   Inception (2010)   \n",
      "17976                     Cabin in the Woods, The (2012)   \n",
      "23707                                        Wild (2014)   \n",
      "39069                                   Mr. Right (2016)   \n",
      "58991                                       Close (2019)   \n",
      "60358                  Pokémon: Detective Pikachu (2019)   \n",
      "61090                                    Parasite (2019)   \n",
      "63236                                  Knives Out (2019)   \n",
      "82997                Weird: The Al Yankovic Story (2022)   \n",
      "83671                                    Spirited (2022)   \n",
      "\n",
      "                                                     tag  \n",
      "257    sci-fi space epic adventure Intergalactic acti...  \n",
      "314    based on a book Morgan Freeman twist ending fr...  \n",
      "466    Tumey's DVDs Coen Brothers cult film New York ...  \n",
      "545    atmospheric claymation cult film gothic great ...  \n",
      "729    Aardman animation comedy witty Wallace & Gromi...  \n",
      "1108   bizarre ending british comedy classic witty ab...  \n",
      "1120   witty short stop motion Aardman animation Aard...  \n",
      "1166   classic space Tumey's DVDs Billy Dee Williams ...  \n",
      "1167   action comedy fantasy quirky Robin Wright roma...  \n",
      "1168   action adventure archaeology classic comedy go...  \n",
      "1173   cinematography good dialogue gritty Low budget...  \n",
      "1358   creative AFI 100 (Laughs) Coen Brothers Holly ...  \n",
      "1527   alien contact first contact awful acting bad a...  \n",
      "1666   Bizzare characters humor Jeff Bridges John Goo...  \n",
      "3924   Tumey's DVDs quirky great soundtrack Coen Brot...  \n",
      "4868   beautifully filmed feel-good France great soun...  \n",
      "4874   Bill Murray dysfunctional family Wes Anderson ...  \n",
      "4888   elves adventure based on a book fantasy magic ...  \n",
      "5841   adventure atmospheric elves fantasy fantasy wo...  \n",
      "6417   Bechdel Test:Fail keira knightley fantasy John...  \n",
      "6812   Eric's Dvds silly annoying Will Ferrell comedy...  \n",
      "8161   black comedy British british comedy dark humor...  \n",
      "14338  ending twist insanity Leonardo DiCaprio psycho...  \n",
      "14939  action dream within a dream dreamlike Leonardo...  \n",
      "17976  clever dark comedy excellent cinematography me...  \n",
      "23707  coping female protagonist grief hiking mother ...  \n",
      "39069  Anna Kendrick awkward crazy entertaining ridic...  \n",
      "58991  action bodyguard bodyguard close personal prot...  \n",
      "60358  commercial bad acting cute plot twist Ryan Rey...  \n",
      "61090  Asian black comedy dark comedy intelligent int...  \n",
      "63236  Ana de Armas clever script ensemble cast posit...  \n",
      "82997  toplist22 alternate history Comedy  Music  alt...  \n",
      "83671  Octavia Spencer overly sentimental Ryan Reynol...  \n",
      "\n",
      "User 22 preference profile (tags combined):\n",
      "sci-fi space epic adventure action classic fantasy birth of great\n",
      "\n",
      "Recommended Movies for User 22:\n",
      "                                                   title  similarity\n",
      "18943                       Space Adventure Cobra (1982)    0.579086\n",
      "1179   Star Wars: Episode VI - Return of the Jedi (1983)    0.530531\n",
      "56517                              The Last Scout (2017)    0.528892\n",
      "22803      Ultramarines: A Warhammer 40,000 Movie (2010)    0.470219\n",
      "74651                            Orbit Ever After (2013)    0.448076\n"
     ]
    }
   ],
   "source": [
    "recommendations = recommend_movies_by_user_tags(user_id=22, top_n=5, top_n_tags=10, verbose=True)\n",
    "\n",
    "print(\"Recommended Movies for User 22:\")\n",
    "print(recommendations)\n"
   ]
  }
 ],
 "metadata": {
  "kernelspec": {
   "display_name": "nlp_vu",
   "language": "python",
   "name": "python3"
  },
  "language_info": {
   "codemirror_mode": {
    "name": "ipython",
    "version": 3
   },
   "file_extension": ".py",
   "mimetype": "text/x-python",
   "name": "python",
   "nbconvert_exporter": "python",
   "pygments_lexer": "ipython3",
   "version": "3.8.19"
  }
 },
 "nbformat": 4,
 "nbformat_minor": 2
}
