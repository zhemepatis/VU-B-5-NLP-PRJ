{
 "cells": [
  {
   "cell_type": "code",
   "execution_count": 97,
   "metadata": {},
   "outputs": [],
   "source": [
    "import pandas as pd\n",
    "import utilities.data_preprocessing as dp\n",
    "import os\n",
    "\n",
    "# importing data into dataframes\n",
    "movies_df = pd.read_csv(\"data/movies.csv\")\n",
    "tags_df = pd.read_csv(\"data/tags.csv\")\n",
    "links_df = pd.read_csv(\"data/links.csv\")\n",
    "ratings_df = pd.read_csv(\"data/ratings.csv\")\n",
    "if os.path.exists(\"data/movie_details.csv\"):\n",
    "   movie_details_df = pd.read_csv(\"data/movie_details.csv\")"
   ]
  },
  {
   "cell_type": "markdown",
   "metadata": {},
   "source": [
    "### *links.csv* data file preprocessing"
   ]
  },
  {
   "cell_type": "code",
   "execution_count": 98,
   "metadata": {},
   "outputs": [],
   "source": [
    "# checking data types\n",
    "links_df[\"movieId\"] = dp.check_data_type(links_df[\"movieId\"], int)\n",
    "links_df[\"imdbId\"] = dp.check_data_type(links_df[\"imdbId\"], int)\n",
    "links_df[\"tmdbId\"] = links_df[\"tmdbId\"].apply(lambda x: int(x) if not pd.isnull(x) else None)\n",
    "\n",
    "links_df = links_df.dropna()"
   ]
  },
  {
   "cell_type": "markdown",
   "metadata": {},
   "source": [
    "### Fetch details of every movie **!!!DO NOT RUN IF FILE IS PRESENT!!!**"
   ]
  },
  {
   "cell_type": "code",
   "execution_count": null,
   "metadata": {},
   "outputs": [],
   "source": [
    "import utilities.data_preprocessing as dp\n",
    "import importlib\n",
    "import time\n",
    "importlib.reload(dp)\n",
    "\n",
    "links_list = links_df['tmdbId'].tolist()\n",
    "\n",
    "access_token_file = \"access_token.json\"\n",
    "output_file = \"data/movie_details.csv\"\n",
    "\n",
    "max_retries = 50\n",
    "for attempt in range(max_retries):\n",
    "    try:\n",
    "        dp.process_movie_list(links_list, access_token_file, output_file)\n",
    "        print(\"Processing completed successfully.\")\n",
    "        break\n",
    "    except Exception as e:\n",
    "        print(f\"Attempt {attempt + 1} failed with error: {e}\")\n",
    "        if attempt < max_retries - 1:\n",
    "            print(\"Retrying...\")\n",
    "            time.sleep(5)\n",
    "        else:\n",
    "            print(\"Max retries reached. Exiting.\")\n"
   ]
  },
  {
   "cell_type": "markdown",
   "metadata": {},
   "source": [
    "### *movies.csv* data file preprocessing"
   ]
  },
  {
   "cell_type": "code",
   "execution_count": 99,
   "metadata": {},
   "outputs": [],
   "source": [
    "# checking data types\n",
    "movies_df[\"movieId\"] = dp.check_data_type(movies_df[\"movieId\"], int)\n",
    "movies_df[\"title\"] = dp.check_data_type(movies_df[\"title\"], str)\n",
    "movies_df[\"genres\"] = dp.check_data_type(movies_df[\"genres\"], str)\n",
    "\n",
    "movies_df = movies_df.dropna()"
   ]
  },
  {
   "cell_type": "code",
   "execution_count": 100,
   "metadata": {},
   "outputs": [
    {
     "data": {
      "text/html": [
       "<div>\n",
       "<style scoped>\n",
       "    .dataframe tbody tr th:only-of-type {\n",
       "        vertical-align: middle;\n",
       "    }\n",
       "\n",
       "    .dataframe tbody tr th {\n",
       "        vertical-align: top;\n",
       "    }\n",
       "\n",
       "    .dataframe thead th {\n",
       "        text-align: right;\n",
       "    }\n",
       "</style>\n",
       "<table border=\"1\" class=\"dataframe\">\n",
       "  <thead>\n",
       "    <tr style=\"text-align: right;\">\n",
       "      <th></th>\n",
       "      <th>movieId</th>\n",
       "      <th>title</th>\n",
       "      <th>genres</th>\n",
       "      <th>year</th>\n",
       "    </tr>\n",
       "  </thead>\n",
       "  <tbody>\n",
       "    <tr>\n",
       "      <th>0</th>\n",
       "      <td>1</td>\n",
       "      <td>Toy Story</td>\n",
       "      <td>[Adventure, Animation, Children, Comedy, Fantasy]</td>\n",
       "      <td>1995.0</td>\n",
       "    </tr>\n",
       "    <tr>\n",
       "      <th>1</th>\n",
       "      <td>2</td>\n",
       "      <td>Jumanji</td>\n",
       "      <td>[Adventure, Children, Fantasy]</td>\n",
       "      <td>1995.0</td>\n",
       "    </tr>\n",
       "    <tr>\n",
       "      <th>2</th>\n",
       "      <td>3</td>\n",
       "      <td>Grumpier Old Men</td>\n",
       "      <td>[Comedy, Romance]</td>\n",
       "      <td>1995.0</td>\n",
       "    </tr>\n",
       "    <tr>\n",
       "      <th>3</th>\n",
       "      <td>4</td>\n",
       "      <td>Waiting to Exhale</td>\n",
       "      <td>[Comedy, Drama, Romance]</td>\n",
       "      <td>1995.0</td>\n",
       "    </tr>\n",
       "    <tr>\n",
       "      <th>4</th>\n",
       "      <td>5</td>\n",
       "      <td>Father of the Bride Part II</td>\n",
       "      <td>[Comedy]</td>\n",
       "      <td>1995.0</td>\n",
       "    </tr>\n",
       "  </tbody>\n",
       "</table>\n",
       "</div>"
      ],
      "text/plain": [
       "   movieId                        title  \\\n",
       "0        1                    Toy Story   \n",
       "1        2                      Jumanji   \n",
       "2        3             Grumpier Old Men   \n",
       "3        4            Waiting to Exhale   \n",
       "4        5  Father of the Bride Part II   \n",
       "\n",
       "                                              genres    year  \n",
       "0  [Adventure, Animation, Children, Comedy, Fantasy]  1995.0  \n",
       "1                     [Adventure, Children, Fantasy]  1995.0  \n",
       "2                                  [Comedy, Romance]  1995.0  \n",
       "3                           [Comedy, Drama, Romance]  1995.0  \n",
       "4                                           [Comedy]  1995.0  "
      ]
     },
     "execution_count": 100,
     "metadata": {},
     "output_type": "execute_result"
    }
   ],
   "source": [
    "# making data more informative and convenient work with\n",
    "movies_df[\"year\"] = movies_df[\"title\"].apply(lambda value: dp.extract_movie_year(value))\n",
    "movies_df[\"title\"] = movies_df[\"title\"].apply(lambda value: dp.clean_movie_title(value))\n",
    "movies_df[\"genres\"] = movies_df[\"genres\"].apply(lambda value: dp.extract_movie_genres(value))\n",
    "\n",
    "movies_df.head()"
   ]
  },
  {
   "cell_type": "markdown",
   "metadata": {},
   "source": [
    "### *tags.csv* data file preprocessing"
   ]
  },
  {
   "cell_type": "code",
   "execution_count": 101,
   "metadata": {},
   "outputs": [],
   "source": [
    "# checking data types\n",
    "tags_df[\"userId\"] = dp.check_data_type(tags_df[\"userId\"], int)\n",
    "tags_df[\"movieId\"] = dp.check_data_type(tags_df[\"movieId\"], int)\n",
    "tags_df[\"tag\"] = dp.check_data_type(tags_df[\"tag\"], str)\n",
    "tags_df[\"timestamp\"] = dp.check_data_type(tags_df[\"timestamp\"], int)\n",
    "\n",
    "tags_df = tags_df.dropna()"
   ]
  },
  {
   "cell_type": "code",
   "execution_count": 102,
   "metadata": {},
   "outputs": [
    {
     "data": {
      "text/html": [
       "<div>\n",
       "<style scoped>\n",
       "    .dataframe tbody tr th:only-of-type {\n",
       "        vertical-align: middle;\n",
       "    }\n",
       "\n",
       "    .dataframe tbody tr th {\n",
       "        vertical-align: top;\n",
       "    }\n",
       "\n",
       "    .dataframe thead th {\n",
       "        text-align: right;\n",
       "    }\n",
       "</style>\n",
       "<table border=\"1\" class=\"dataframe\">\n",
       "  <thead>\n",
       "    <tr style=\"text-align: right;\">\n",
       "      <th></th>\n",
       "      <th>userId</th>\n",
       "      <th>movieId</th>\n",
       "      <th>tag</th>\n",
       "      <th>timestamp</th>\n",
       "    </tr>\n",
       "  </thead>\n",
       "  <tbody>\n",
       "    <tr>\n",
       "      <th>0</th>\n",
       "      <td>22</td>\n",
       "      <td>26479</td>\n",
       "      <td>kevin kline</td>\n",
       "      <td>1583038886</td>\n",
       "    </tr>\n",
       "    <tr>\n",
       "      <th>1</th>\n",
       "      <td>22</td>\n",
       "      <td>79592</td>\n",
       "      <td>misogyny</td>\n",
       "      <td>1581476297</td>\n",
       "    </tr>\n",
       "    <tr>\n",
       "      <th>2</th>\n",
       "      <td>22</td>\n",
       "      <td>247150</td>\n",
       "      <td>acrophobia</td>\n",
       "      <td>1622483469</td>\n",
       "    </tr>\n",
       "    <tr>\n",
       "      <th>3</th>\n",
       "      <td>34</td>\n",
       "      <td>2174</td>\n",
       "      <td>music</td>\n",
       "      <td>1249808064</td>\n",
       "    </tr>\n",
       "    <tr>\n",
       "      <th>4</th>\n",
       "      <td>34</td>\n",
       "      <td>2174</td>\n",
       "      <td>weird</td>\n",
       "      <td>1249808102</td>\n",
       "    </tr>\n",
       "  </tbody>\n",
       "</table>\n",
       "</div>"
      ],
      "text/plain": [
       "   userId  movieId          tag   timestamp\n",
       "0      22    26479  kevin kline  1583038886\n",
       "1      22    79592     misogyny  1581476297\n",
       "2      22   247150   acrophobia  1622483469\n",
       "3      34     2174        music  1249808064\n",
       "4      34     2174        weird  1249808102"
      ]
     },
     "execution_count": 102,
     "metadata": {},
     "output_type": "execute_result"
    }
   ],
   "source": [
    "# making data more informative and convenient work with\n",
    "tags_df[\"tag\"] = tags_df[\"tag\"].apply(lambda value: value.lower())\n",
    "\n",
    "tags_df.head()"
   ]
  },
  {
   "cell_type": "markdown",
   "metadata": {},
   "source": [
    "### *ratings.csv* data file preprocessing"
   ]
  },
  {
   "cell_type": "code",
   "execution_count": 103,
   "metadata": {},
   "outputs": [],
   "source": [
    "# checking data types\n",
    "ratings_df[\"userId\"] = dp.check_data_type(ratings_df[\"userId\"], int)\n",
    "ratings_df[\"movieId\"] = dp.check_data_type(ratings_df[\"movieId\"], int)\n",
    "ratings_df[\"rating\"] = dp.check_data_type(ratings_df[\"rating\"], float)\n",
    "ratings_df[\"timestamp\"] = dp.check_data_type(ratings_df[\"timestamp\"], float)\n",
    "\n",
    "ratings_df = ratings_df.dropna()"
   ]
  },
  {
   "cell_type": "markdown",
   "metadata": {},
   "source": [
    "### Combine movies and their tags"
   ]
  },
  {
   "cell_type": "code",
   "execution_count": 107,
   "metadata": {},
   "outputs": [
    {
     "data": {
      "text/html": [
       "<div>\n",
       "<style scoped>\n",
       "    .dataframe tbody tr th:only-of-type {\n",
       "        vertical-align: middle;\n",
       "    }\n",
       "\n",
       "    .dataframe tbody tr th {\n",
       "        vertical-align: top;\n",
       "    }\n",
       "\n",
       "    .dataframe thead th {\n",
       "        text-align: right;\n",
       "    }\n",
       "</style>\n",
       "<table border=\"1\" class=\"dataframe\">\n",
       "  <thead>\n",
       "    <tr style=\"text-align: right;\">\n",
       "      <th></th>\n",
       "      <th>movieId</th>\n",
       "      <th>title</th>\n",
       "      <th>genres</th>\n",
       "      <th>year</th>\n",
       "      <th>tags</th>\n",
       "    </tr>\n",
       "  </thead>\n",
       "  <tbody>\n",
       "    <tr>\n",
       "      <th>0</th>\n",
       "      <td>1</td>\n",
       "      <td>Toy Story</td>\n",
       "      <td>[Adventure, Animation, Children, Comedy, Fantasy]</td>\n",
       "      <td>1995.0</td>\n",
       "      <td>[children, disney, animation, pixar, funny, tu...</td>\n",
       "    </tr>\n",
       "    <tr>\n",
       "      <th>1</th>\n",
       "      <td>2</td>\n",
       "      <td>Jumanji</td>\n",
       "      <td>[Adventure, Children, Fantasy]</td>\n",
       "      <td>1995.0</td>\n",
       "      <td>[robin williams, fantasy, time travel, animals...</td>\n",
       "    </tr>\n",
       "    <tr>\n",
       "      <th>2</th>\n",
       "      <td>3</td>\n",
       "      <td>Grumpier Old Men</td>\n",
       "      <td>[Comedy, Romance]</td>\n",
       "      <td>1995.0</td>\n",
       "      <td>[comedinha de velhinhos engraãƒâ§ada, comedinh...</td>\n",
       "    </tr>\n",
       "    <tr>\n",
       "      <th>3</th>\n",
       "      <td>4</td>\n",
       "      <td>Waiting to Exhale</td>\n",
       "      <td>[Comedy, Drama, Romance]</td>\n",
       "      <td>1995.0</td>\n",
       "      <td>[characters, slurs, based on novel or book, ch...</td>\n",
       "    </tr>\n",
       "    <tr>\n",
       "      <th>4</th>\n",
       "      <td>5</td>\n",
       "      <td>Father of the Bride Part II</td>\n",
       "      <td>[Comedy]</td>\n",
       "      <td>1995.0</td>\n",
       "      <td>[fantasy, pregnancy, remake, family, steve mar...</td>\n",
       "    </tr>\n",
       "  </tbody>\n",
       "</table>\n",
       "</div>"
      ],
      "text/plain": [
       "   movieId                        title  \\\n",
       "0        1                    Toy Story   \n",
       "1        2                      Jumanji   \n",
       "2        3             Grumpier Old Men   \n",
       "3        4            Waiting to Exhale   \n",
       "4        5  Father of the Bride Part II   \n",
       "\n",
       "                                              genres    year  \\\n",
       "0  [Adventure, Animation, Children, Comedy, Fantasy]  1995.0   \n",
       "1                     [Adventure, Children, Fantasy]  1995.0   \n",
       "2                                  [Comedy, Romance]  1995.0   \n",
       "3                           [Comedy, Drama, Romance]  1995.0   \n",
       "4                                           [Comedy]  1995.0   \n",
       "\n",
       "                                                tags  \n",
       "0  [children, disney, animation, pixar, funny, tu...  \n",
       "1  [robin williams, fantasy, time travel, animals...  \n",
       "2  [comedinha de velhinhos engraãƒâ§ada, comedinh...  \n",
       "3  [characters, slurs, based on novel or book, ch...  \n",
       "4  [fantasy, pregnancy, remake, family, steve mar...  "
      ]
     },
     "execution_count": 107,
     "metadata": {},
     "output_type": "execute_result"
    }
   ],
   "source": [
    "movie_tags_dict = tags_df.groupby('movieId')[\"tag\"].unique().apply(lambda group: group.tolist()).to_dict()\n",
    "movies_df['tags'] = movies_df['movieId'].apply(lambda id: movie_tags_dict.get(id, []))\n",
    "\n",
    "movies_df.head()"
   ]
  },
  {
   "cell_type": "markdown",
   "metadata": {},
   "source": [
    "### *movie_details.csv* file preprocessing"
   ]
  },
  {
   "cell_type": "code",
   "execution_count": 108,
   "metadata": {},
   "outputs": [
    {
     "name": "stderr",
     "output_type": "stream",
     "text": [
      "[nltk_data] Downloading package stopwords to\n",
      "[nltk_data]     /Users/naudotojas/nltk_data...\n",
      "[nltk_data]   Package stopwords is already up-to-date!\n"
     ]
    },
    {
     "data": {
      "text/html": [
       "<div>\n",
       "<style scoped>\n",
       "    .dataframe tbody tr th:only-of-type {\n",
       "        vertical-align: middle;\n",
       "    }\n",
       "\n",
       "    .dataframe tbody tr th {\n",
       "        vertical-align: top;\n",
       "    }\n",
       "\n",
       "    .dataframe thead th {\n",
       "        text-align: right;\n",
       "    }\n",
       "</style>\n",
       "<table border=\"1\" class=\"dataframe\">\n",
       "  <thead>\n",
       "    <tr style=\"text-align: right;\">\n",
       "      <th></th>\n",
       "      <th>movieId</th>\n",
       "      <th>title</th>\n",
       "      <th>genres</th>\n",
       "      <th>year</th>\n",
       "      <th>tags</th>\n",
       "      <th>imdbId</th>\n",
       "      <th>tmdbId</th>\n",
       "      <th>original_title</th>\n",
       "      <th>release_date</th>\n",
       "      <th>runtime</th>\n",
       "      <th>production_companies</th>\n",
       "      <th>popularity</th>\n",
       "      <th>vote_average</th>\n",
       "      <th>vote_count</th>\n",
       "      <th>overview</th>\n",
       "      <th>status</th>\n",
       "      <th>budget</th>\n",
       "      <th>revenue</th>\n",
       "    </tr>\n",
       "  </thead>\n",
       "  <tbody>\n",
       "    <tr>\n",
       "      <th>0</th>\n",
       "      <td>1</td>\n",
       "      <td>Toy Story</td>\n",
       "      <td>[Adventure, Animation, Children, Comedy, Fantasy]</td>\n",
       "      <td>1995.0</td>\n",
       "      <td>[children, disney, animation, pixar, funny, tu...</td>\n",
       "      <td>114709</td>\n",
       "      <td>862.0</td>\n",
       "      <td>Toy Story</td>\n",
       "      <td>1995-10-30</td>\n",
       "      <td>81</td>\n",
       "      <td>Pixar</td>\n",
       "      <td>129.077</td>\n",
       "      <td>8.00</td>\n",
       "      <td>18385</td>\n",
       "      <td>lead woody andy toy live happily room andy bir...</td>\n",
       "      <td>Released</td>\n",
       "      <td>30000000</td>\n",
       "      <td>394436586</td>\n",
       "    </tr>\n",
       "    <tr>\n",
       "      <th>1</th>\n",
       "      <td>2</td>\n",
       "      <td>Jumanji</td>\n",
       "      <td>[Adventure, Children, Fantasy]</td>\n",
       "      <td>1995.0</td>\n",
       "      <td>[robin williams, fantasy, time travel, animals...</td>\n",
       "      <td>113497</td>\n",
       "      <td>8844.0</td>\n",
       "      <td>Jumanji</td>\n",
       "      <td>1995-12-15</td>\n",
       "      <td>104</td>\n",
       "      <td>TriStar Pictures, Interscope Communications, T...</td>\n",
       "      <td>16.900</td>\n",
       "      <td>7.20</td>\n",
       "      <td>10499</td>\n",
       "      <td>sibling judy peter discover enchanted board ga...</td>\n",
       "      <td>Released</td>\n",
       "      <td>65000000</td>\n",
       "      <td>262821940</td>\n",
       "    </tr>\n",
       "    <tr>\n",
       "      <th>2</th>\n",
       "      <td>3</td>\n",
       "      <td>Grumpier Old Men</td>\n",
       "      <td>[Comedy, Romance]</td>\n",
       "      <td>1995.0</td>\n",
       "      <td>[comedinha de velhinhos engraãƒâ§ada, comedinh...</td>\n",
       "      <td>113228</td>\n",
       "      <td>15602.0</td>\n",
       "      <td>Grumpier Old Men</td>\n",
       "      <td>1995-12-22</td>\n",
       "      <td>101</td>\n",
       "      <td>Lancaster Gate, Warner Bros. Pictures</td>\n",
       "      <td>11.284</td>\n",
       "      <td>6.50</td>\n",
       "      <td>377</td>\n",
       "      <td>family wedding reignite ancient feud next door...</td>\n",
       "      <td>Released</td>\n",
       "      <td>25000000</td>\n",
       "      <td>71500000</td>\n",
       "    </tr>\n",
       "    <tr>\n",
       "      <th>3</th>\n",
       "      <td>4</td>\n",
       "      <td>Waiting to Exhale</td>\n",
       "      <td>[Comedy, Drama, Romance]</td>\n",
       "      <td>1995.0</td>\n",
       "      <td>[characters, slurs, based on novel or book, ch...</td>\n",
       "      <td>114885</td>\n",
       "      <td>31357.0</td>\n",
       "      <td>Waiting to Exhale</td>\n",
       "      <td>1995-12-22</td>\n",
       "      <td>127</td>\n",
       "      <td>20th Century Fox</td>\n",
       "      <td>11.031</td>\n",
       "      <td>6.22</td>\n",
       "      <td>166</td>\n",
       "      <td>cheat mistreat step woman hold breath wait elu...</td>\n",
       "      <td>Released</td>\n",
       "      <td>16000000</td>\n",
       "      <td>81452156</td>\n",
       "    </tr>\n",
       "    <tr>\n",
       "      <th>4</th>\n",
       "      <td>5</td>\n",
       "      <td>Father of the Bride Part II</td>\n",
       "      <td>[Comedy]</td>\n",
       "      <td>1995.0</td>\n",
       "      <td>[fantasy, pregnancy, remake, family, steve mar...</td>\n",
       "      <td>113041</td>\n",
       "      <td>11862.0</td>\n",
       "      <td>Father of the Bride Part II</td>\n",
       "      <td>1995-12-08</td>\n",
       "      <td>106</td>\n",
       "      <td>Touchstone Pictures, Sandollar Productions</td>\n",
       "      <td>17.643</td>\n",
       "      <td>6.20</td>\n",
       "      <td>729</td>\n",
       "      <td>george bank recover daughter wedding receive n...</td>\n",
       "      <td>Released</td>\n",
       "      <td>0</td>\n",
       "      <td>76594107</td>\n",
       "    </tr>\n",
       "  </tbody>\n",
       "</table>\n",
       "</div>"
      ],
      "text/plain": [
       "   movieId                        title  \\\n",
       "0        1                    Toy Story   \n",
       "1        2                      Jumanji   \n",
       "2        3             Grumpier Old Men   \n",
       "3        4            Waiting to Exhale   \n",
       "4        5  Father of the Bride Part II   \n",
       "\n",
       "                                              genres    year  \\\n",
       "0  [Adventure, Animation, Children, Comedy, Fantasy]  1995.0   \n",
       "1                     [Adventure, Children, Fantasy]  1995.0   \n",
       "2                                  [Comedy, Romance]  1995.0   \n",
       "3                           [Comedy, Drama, Romance]  1995.0   \n",
       "4                                           [Comedy]  1995.0   \n",
       "\n",
       "                                                tags  imdbId   tmdbId  \\\n",
       "0  [children, disney, animation, pixar, funny, tu...  114709    862.0   \n",
       "1  [robin williams, fantasy, time travel, animals...  113497   8844.0   \n",
       "2  [comedinha de velhinhos engraãƒâ§ada, comedinh...  113228  15602.0   \n",
       "3  [characters, slurs, based on novel or book, ch...  114885  31357.0   \n",
       "4  [fantasy, pregnancy, remake, family, steve mar...  113041  11862.0   \n",
       "\n",
       "                original_title release_date  runtime  \\\n",
       "0                    Toy Story   1995-10-30       81   \n",
       "1                      Jumanji   1995-12-15      104   \n",
       "2             Grumpier Old Men   1995-12-22      101   \n",
       "3            Waiting to Exhale   1995-12-22      127   \n",
       "4  Father of the Bride Part II   1995-12-08      106   \n",
       "\n",
       "                                production_companies  popularity  \\\n",
       "0                                              Pixar     129.077   \n",
       "1  TriStar Pictures, Interscope Communications, T...      16.900   \n",
       "2              Lancaster Gate, Warner Bros. Pictures      11.284   \n",
       "3                                   20th Century Fox      11.031   \n",
       "4         Touchstone Pictures, Sandollar Productions      17.643   \n",
       "\n",
       "   vote_average  vote_count  \\\n",
       "0          8.00       18385   \n",
       "1          7.20       10499   \n",
       "2          6.50         377   \n",
       "3          6.22         166   \n",
       "4          6.20         729   \n",
       "\n",
       "                                            overview    status    budget  \\\n",
       "0  lead woody andy toy live happily room andy bir...  Released  30000000   \n",
       "1  sibling judy peter discover enchanted board ga...  Released  65000000   \n",
       "2  family wedding reignite ancient feud next door...  Released  25000000   \n",
       "3  cheat mistreat step woman hold breath wait elu...  Released  16000000   \n",
       "4  george bank recover daughter wedding receive n...  Released         0   \n",
       "\n",
       "     revenue  \n",
       "0  394436586  \n",
       "1  262821940  \n",
       "2   71500000  \n",
       "3   81452156  \n",
       "4   76594107  "
      ]
     },
     "execution_count": 108,
     "metadata": {},
     "output_type": "execute_result"
    }
   ],
   "source": [
    "import utilities.data_preprocessing as dp\n",
    "import pandas as pd\n",
    "import importlib\n",
    "import spacy\n",
    "import nltk\n",
    "from nltk.corpus import stopwords\n",
    "importlib.reload(dp)\n",
    "\n",
    "nlp = spacy.load(\"en_core_web_md\")\n",
    "nltk.download('stopwords')\n",
    "stop_words = set(stopwords.words('english'))\n",
    "\n",
    "movies_links_df = pd.merge(movies_df, links_df, on=\"movieId\", how=\"inner\")\n",
    "\n",
    "movies_links_details_df = pd.merge(\n",
    "   movies_links_df, \n",
    "   movie_details_df, \n",
    "   left_on=\"tmdbId\", \n",
    "   right_on=\"tmdbId\", \n",
    "   how=\"inner\",\n",
    "   suffixes=('_movies', '_details')\n",
    ")\n",
    "\n",
    "movies_links_details_df = movies_links_details_df.drop(columns=['title_details', 'genres_details'])\n",
    "movies_links_details_df = movies_links_details_df.rename(columns={\n",
    "   'title_movies': 'title',\n",
    "   'genres_movies': 'genres'\n",
    "})\n",
    "\n",
    "movies_links_details_df['overview'] = movies_links_details_df['overview'].apply(\n",
    "   lambda x: dp.preprocess_text(x, nlp, stop_words)\n",
    ")\n",
    "\n",
    "movies_links_details_df.head()\n"
   ]
  },
  {
   "cell_type": "markdown",
   "metadata": {},
   "source": [
    "# Solution 1: Recommendations based on cosine similarity"
   ]
  },
  {
   "cell_type": "markdown",
   "metadata": {},
   "source": [
    "### Combine all features into a single one"
   ]
  },
  {
   "cell_type": "code",
   "execution_count": 119,
   "metadata": {},
   "outputs": [
    {
     "name": "stdout",
     "output_type": "stream",
     "text": [
      "   movieId                        title  \\\n",
      "0        1                    Toy Story   \n",
      "1        2                      Jumanji   \n",
      "2        3             Grumpier Old Men   \n",
      "3        4            Waiting to Exhale   \n",
      "4        5  Father of the Bride Part II   \n",
      "\n",
      "                                   combined_features  \n",
      "0  Toy Story 1995.0 ['Adventure', 'Animation', 'C...  \n",
      "1  Jumanji 1995.0 ['Adventure', 'Children', 'Fant...  \n",
      "2  Grumpier Old Men 1995.0 ['Comedy', 'Romance'] ...  \n",
      "3  Waiting to Exhale 1995.0 ['Comedy', 'Drama', '...  \n",
      "4  Father of the Bride Part II 1995.0 ['Comedy'] ...  \n"
     ]
    }
   ],
   "source": [
    "import utilities.data_preprocessing as dp\n",
    "import pandas as pd\n",
    "import importlib\n",
    "importlib.reload(dp)\n",
    "\n",
    "\n",
    "def combine_features(row):\n",
    "   features = [\n",
    "      str(row['title']), \n",
    "      str(row['year']),\n",
    "      str(row['genres']), \n",
    "      str(row['production_companies']), \n",
    "      #str(row['overview']), \n",
    "      str(row['tags'])\n",
    "   ]\n",
    "   return \" \".join(features)\n",
    "\n",
    "movies_links_details_df['combined_features'] = movies_links_details_df.apply(combine_features, axis=1)\n",
    "movies_links_details_df = movies_links_details_df.dropna(subset=['combined_features'])\n",
    "\n",
    "print(movies_links_details_df[['movieId', 'title', 'combined_features']].head())\n",
    "\n",
    "movies_links_details_df.to_csv(\"data/movies_with_combined_features.csv\", index=False)"
   ]
  },
  {
   "cell_type": "markdown",
   "metadata": {},
   "source": [
    "## Vectorization of the combined features"
   ]
  },
  {
   "cell_type": "code",
   "execution_count": 122,
   "metadata": {},
   "outputs": [
    {
     "data": {
      "text/plain": [
       "(57807, 6666)"
      ]
     },
     "execution_count": 122,
     "metadata": {},
     "output_type": "execute_result"
    }
   ],
   "source": [
    "from sklearn.feature_extraction.text import TfidfVectorizer\n",
    "tfidf = TfidfVectorizer(max_features=6666)\n",
    "\n",
    "movies_combined_df = pd.read_csv(\"data/movies_with_combined_features.csv\")\n",
    "\n",
    "vectorized_data = tfidf.fit_transform(movies_combined_df['combined_features'].values)\n",
    "vectorized_dataframe = pd.DataFrame(vectorized_data.toarray(), index=movies_combined_df['combined_features'].index.tolist())\n",
    "vectorized_dataframe.shape"
   ]
  },
  {
   "cell_type": "markdown",
   "metadata": {},
   "source": [
    "## Reducing the dimension of the vectorized data"
   ]
  },
  {
   "cell_type": "code",
   "execution_count": 123,
   "metadata": {},
   "outputs": [
    {
     "data": {
      "text/plain": [
       "(57807, 3333)"
      ]
     },
     "execution_count": 123,
     "metadata": {},
     "output_type": "execute_result"
    }
   ],
   "source": [
    "from sklearn.decomposition import TruncatedSVD\n",
    "svd = TruncatedSVD(n_components=3333)\n",
    "\n",
    "reduced_data = svd.fit_transform(vectorized_dataframe)\n",
    "reduced_data.shape"
   ]
  },
  {
   "cell_type": "markdown",
   "metadata": {},
   "source": [
    "# Cosine similarity recommendation"
   ]
  },
  {
   "cell_type": "code",
   "execution_count": 124,
   "metadata": {},
   "outputs": [],
   "source": [
    "from sklearn.metrics.pairwise import cosine_similarity\n",
    "similarity = cosine_similarity(reduced_data)"
   ]
  },
  {
   "cell_type": "code",
   "execution_count": 146,
   "metadata": {},
   "outputs": [
    {
     "name": "stdout",
     "output_type": "stream",
     "text": [
      "Input movie:\n",
      "ID     | Title                                              | Genres                                            \n",
      "------ | -------------------------------------------------- | --------------------------------------------------\n",
      "260    | Star Wars: Episode IV - A New Hope                 | ['Action', 'Adventure', 'Sci-Fi']                 \n",
      "\n",
      "Recommended Movies:\n",
      "ID     | Title                                              | Genres                                             | Similarity\n",
      "------ | -------------------------------------------------- | -------------------------------------------------- | ----------\n",
      "1196   | Star Wars: Episode V - The Empire Strikes Back     | ['Action', 'Adventure', 'Sci-Fi']                  | 0.7007    \n",
      "1210   | Star Wars: Episode VI - Return of the Jedi         | ['Action', 'Adventure', 'Sci-Fi']                  | 0.6835    \n",
      "2628   | Star Wars: Episode I - The Phantom Menace          | ['Action', 'Adventure', 'Sci-Fi']                  | 0.6018    \n",
      "34405  | Serenity                                           | ['Action', 'Adventure', 'Sci-Fi']                  | 0.5772    \n",
      "924    | 2001: A Space Odyssey                              | ['Adventure', 'Drama', 'Sci-Fi']                   | 0.5660    \n",
      "33493  | Star Wars: Episode III - Revenge of the Sith       | ['Action', 'Adventure', 'Sci-Fi']                  | 0.5529    \n",
      "5378   | Star Wars: Episode II - Attack of the Clones       | ['Action', 'Adventure', 'Sci-Fi', 'IMAX']          | 0.5463    \n",
      "122886 | Star Wars: Episode VII - The Force Awakens         | ['Action', 'Adventure', 'Fantasy', 'Sci-Fi', 'IMAX'] | 0.5324    \n",
      "1214   | Alien                                              | ['Horror', 'Sci-Fi']                               | 0.5178    \n"
     ]
    }
   ],
   "source": [
    "def recommendation(movie_title):\n",
    "   id_of_movie = movies_combined_df[movies_combined_df['title'].str.contains(movie_title, case=False, na=False)].index[0]\n",
    "   \n",
    "   print(\"Input movie:\")\n",
    "   print(f\"{'ID':<6} | {'Title':<50} | {'Genres':<50}\")\n",
    "   print(f\"{'-'*6} | {'-'*50} | {'-'*50}\")\n",
    "   print(f\"{movies_combined_df.iloc[id_of_movie].movieId:<6} | {movies_combined_df.iloc[id_of_movie].title:<50} | {movies_combined_df.iloc[id_of_movie].genres:<50}\")\n",
    "   \n",
    "   distances = similarity[id_of_movie]\n",
    "   movie_list = sorted(list(enumerate(distances)), reverse=True, key=lambda x: x[1])[1:10]\n",
    "   \n",
    "   print(\"\\nRecommended Movies:\")\n",
    "   print(f\"{'ID':<6} | {'Title':<50} | {'Genres':<50} | {'Similarity':<10}\")\n",
    "   print(f\"{'-'*6} | {'-'*50} | {'-'*50} | {'-'*10}\")\n",
    "   for i in movie_list:\n",
    "      index = i[0]\n",
    "      similarity_score = i[1]\n",
    "      print(f\"{movies_combined_df.iloc[index].movieId:<6} | {movies_combined_df.iloc[index].title:<50} | {movies_combined_df.iloc[index].genres:<50} | {similarity_score:<10.4f}\")\n",
    "\n",
    "recommendation(\"Star wars\")\n"
   ]
  },
  {
   "cell_type": "markdown",
   "metadata": {},
   "source": [
    "# Solution 2: Recommendations based on user's liked movies and the cosine similarity of tags"
   ]
  },
  {
   "cell_type": "markdown",
   "metadata": {},
   "source": [
    "### Data loading and pre-processing for tags"
   ]
  },
  {
   "cell_type": "code",
   "execution_count": 12,
   "metadata": {},
   "outputs": [
    {
     "name": "stderr",
     "output_type": "stream",
     "text": [
      "[nltk_data] Downloading package stopwords to\n",
      "[nltk_data]     C:\\Users\\gabri\\AppData\\Roaming\\nltk_data...\n",
      "[nltk_data]   Package stopwords is already up-to-date!\n"
     ]
    }
   ],
   "source": [
    "import numpy as np\n",
    "from collections import Counter\n",
    "from sklearn.feature_extraction.text import TfidfVectorizer\n",
    "from sklearn.metrics.pairwise import cosine_similarity\n",
    "import spacy\n",
    "import nltk\n",
    "from nltk.corpus import stopwords\n",
    "\n",
    "nlp = spacy.load(\"en_core_web_md\")\n",
    "nltk.download('stopwords')\n",
    "stop_words = set(stopwords.words('english'))\n",
    "\n",
    "# Drop rows with missing data\n",
    "ratings_df.dropna(subset=['userId', 'movieId', 'rating'], inplace=True)\n",
    "tags_df.dropna(subset=['movieId', 'tag'], inplace=True)\n",
    "movies_df.dropna(subset=['movieId', 'title'], inplace=True)\n",
    "\n",
    "# Combine all tags for each movie\n",
    "tags_combined = tags_df.groupby('movieId')['tag'].apply(lambda tags: \" \".join(tags)).reset_index()\n",
    "\n",
    "# Preprocess combined tags\n",
    "def preprocess_tags_batch(text):\n",
    "    doc = nlp(text.lower())\n",
    "    cleaned_tokens = [\n",
    "        token.lemma_ for token in doc if token.is_alpha and token.lemma_ not in stop_words\n",
    "    ]\n",
    "    return \" \".join(cleaned_tokens)\n",
    "\n",
    "tags_combined['tag'] = tags_combined['tag'].apply(preprocess_tags_batch)\n",
    "\n",
    "# Merge preprocessed tags with movies\n",
    "movies_with_tags = pd.merge(movies_df, tags_combined, on='movieId', how='left')\n",
    "movies_with_tags['tag'] = movies_with_tags['tag'].fillna(\"\")"
   ]
  },
  {
   "cell_type": "markdown",
   "metadata": {},
   "source": [
    "### Get user liked movies"
   ]
  },
  {
   "cell_type": "code",
   "execution_count": 13,
   "metadata": {},
   "outputs": [],
   "source": [
    "def get_user_liked_movies(user_id, threshold=4.0):\n",
    "    liked_movies = ratings_df[(ratings_df['userId'] == user_id) & (ratings_df['rating'] >= threshold)]['movieId']\n",
    "    return movies_with_tags[movies_with_tags['movieId'].isin(liked_movies)]"
   ]
  },
  {
   "cell_type": "markdown",
   "metadata": {},
   "source": [
    "### Build user profile"
   ]
  },
  {
   "cell_type": "code",
   "execution_count": 14,
   "metadata": {},
   "outputs": [],
   "source": [
    "def build_user_profile(liked_movies, top_n_tags=5, max_repeats=5):\n",
    "    # Combine all tags from liked movies\n",
    "    tags_combined = \" \".join(liked_movies['tag'])\n",
    "    \n",
    "    # Count and normalize tag occurrences\n",
    "    tag_counts = Counter(tags_combined.split())\n",
    "    total_tags = sum(tag_counts.values())\n",
    "    normalized_tags = {tag: count / total_tags for tag, count in tag_counts.items()}\n",
    "    \n",
    "    # Sort tags by normalized frequency\n",
    "    most_common_tags = sorted(normalized_tags.items(), key=lambda x: x[1], reverse=True)\n",
    "    \n",
    "    # Limit the profile to top_n_tags\n",
    "    user_profile = \" \".join([tag for tag, _ in most_common_tags[:top_n_tags]])\n",
    "    return user_profile\n"
   ]
  },
  {
   "cell_type": "markdown",
   "metadata": {},
   "source": [
    "### Recommendation based on tags of liked movies"
   ]
  },
  {
   "cell_type": "code",
   "execution_count": 15,
   "metadata": {},
   "outputs": [],
   "source": [
    "def recommend_movies_by_user_tags(user_id, top_n=5, top_n_tags=10):\n",
    "    liked_movies = get_user_liked_movies(user_id)\n",
    "\n",
    "    if liked_movies.empty:\n",
    "        print(f\"User {user_id} has no liked movies rated above 4.0.\")\n",
    "        return\n",
    "\n",
    "    print(f\"Movies Liked by User {user_id}:\")\n",
    "    display(liked_movies[['title', 'tag']].head(5))\n",
    "\n",
    "    user_profile = build_user_profile(liked_movies, top_n_tags=top_n_tags)\n",
    "    print(f\"\\nUser {user_id}'s Tag-Based Preference Profile:\\n{user_profile}\")\n",
    "\n",
    "    # TF-IDF vectorization and similarity computation\n",
    "    tfidf = TfidfVectorizer(max_features=5000)\n",
    "    tfidf_input = pd.concat([movies_with_tags['tag'], pd.Series(user_profile)], ignore_index=True)\n",
    "    tfidf_matrix = tfidf.fit_transform(tfidf_input)\n",
    "\n",
    "    user_profile_vector = tfidf_matrix[-1]  \n",
    "    movie_vectors = tfidf_matrix[:-1]       \n",
    "    similarity_scores = cosine_similarity(user_profile_vector, movie_vectors)[0]\n",
    "\n",
    "    # Add similarity scores and filter recommendations\n",
    "    movies_with_tags['similarity'] = similarity_scores\n",
    "    recommended_movies = movies_with_tags[~movies_with_tags['movieId'].isin(liked_movies['movieId'])]\n",
    "    recommended_movies = recommended_movies.sort_values(by='similarity', ascending=False).head(top_n)\n",
    "\n",
    "    # Display recommendations\n",
    "    print(f\"\\nRecommended Movies for User {user_id}:\")\n",
    "    display(recommended_movies[['title', 'genres', 'similarity']].style.format({'similarity': \"{:.2f}\"}).background_gradient(cmap='YlGn'))\n"
   ]
  },
  {
   "cell_type": "markdown",
   "metadata": {},
   "source": [
    "### Test the recommendations"
   ]
  },
  {
   "cell_type": "code",
   "execution_count": 25,
   "metadata": {},
   "outputs": [
    {
     "name": "stdout",
     "output_type": "stream",
     "text": [
      "Movies Liked by User 8865:\n"
     ]
    },
    {
     "data": {
      "text/html": [
       "<div>\n",
       "<style scoped>\n",
       "    .dataframe tbody tr th:only-of-type {\n",
       "        vertical-align: middle;\n",
       "    }\n",
       "\n",
       "    .dataframe tbody tr th {\n",
       "        vertical-align: top;\n",
       "    }\n",
       "\n",
       "    .dataframe thead th {\n",
       "        text-align: right;\n",
       "    }\n",
       "</style>\n",
       "<table border=\"1\" class=\"dataframe\">\n",
       "  <thead>\n",
       "    <tr style=\"text-align: right;\">\n",
       "      <th></th>\n",
       "      <th>title</th>\n",
       "      <th>tag</th>\n",
       "    </tr>\n",
       "  </thead>\n",
       "  <tbody>\n",
       "    <tr>\n",
       "      <th>188</th>\n",
       "      <td>Safe</td>\n",
       "      <td>ambiguous cinematography criterion environment...</td>\n",
       "    </tr>\n",
       "    <tr>\n",
       "      <th>423</th>\n",
       "      <td>Bronx Tale, A</td>\n",
       "      <td>eric dvds al pacino mafia robert de niro mafia...</td>\n",
       "    </tr>\n",
       "    <tr>\n",
       "      <th>903</th>\n",
       "      <td>2001: A Space Odyssey</td>\n",
       "      <td>atmospheric space stanley kubrick ambiguous at...</td>\n",
       "    </tr>\n",
       "    <tr>\n",
       "      <th>1052</th>\n",
       "      <td>Fish Called Wanda, A</td>\n",
       "      <td>tumey dvds dark comedy quirky humorous dark hu...</td>\n",
       "    </tr>\n",
       "    <tr>\n",
       "      <th>1070</th>\n",
       "      <td>E.T. the Extra-Terrestrial</td>\n",
       "      <td>aliens child comedy emotional family fantasy i...</td>\n",
       "    </tr>\n",
       "  </tbody>\n",
       "</table>\n",
       "</div>"
      ],
      "text/plain": [
       "                           title  \\\n",
       "188                         Safe   \n",
       "423                Bronx Tale, A   \n",
       "903        2001: A Space Odyssey   \n",
       "1052        Fish Called Wanda, A   \n",
       "1070  E.T. the Extra-Terrestrial   \n",
       "\n",
       "                                                    tag  \n",
       "188   ambiguous cinematography criterion environment...  \n",
       "423   eric dvds al pacino mafia robert de niro mafia...  \n",
       "903   atmospheric space stanley kubrick ambiguous at...  \n",
       "1052  tumey dvds dark comedy quirky humorous dark hu...  \n",
       "1070  aliens child comedy emotional family fantasy i...  "
      ]
     },
     "metadata": {},
     "output_type": "display_data"
    },
    {
     "name": "stdout",
     "output_type": "stream",
     "text": [
      "\n",
      "User 8865's Tag-Based Preference Profile:\n",
      "space oscar good story comedy classic atmospheric psychology sci fi true alien base end mental dark illness surreal nudity cult\n",
      "\n",
      "Recommended Movies for User 8865:\n"
     ]
    },
    {
     "data": {
      "text/html": [
       "<style type=\"text/css\">\n",
       "#T_55675_row0_col2 {\n",
       "  background-color: #004529;\n",
       "  color: #f1f1f1;\n",
       "}\n",
       "#T_55675_row1_col2 {\n",
       "  background-color: #00502d;\n",
       "  color: #f1f1f1;\n",
       "}\n",
       "#T_55675_row2_col2 {\n",
       "  background-color: #076d39;\n",
       "  color: #f1f1f1;\n",
       "}\n",
       "#T_55675_row3_col2 {\n",
       "  background-color: #f4fbb7;\n",
       "  color: #000000;\n",
       "}\n",
       "#T_55675_row4_col2 {\n",
       "  background-color: #ffffe5;\n",
       "  color: #000000;\n",
       "}\n",
       "</style>\n",
       "<table id=\"T_55675\">\n",
       "  <thead>\n",
       "    <tr>\n",
       "      <th class=\"blank level0\" >&nbsp;</th>\n",
       "      <th id=\"T_55675_level0_col0\" class=\"col_heading level0 col0\" >title</th>\n",
       "      <th id=\"T_55675_level0_col1\" class=\"col_heading level0 col1\" >genres</th>\n",
       "      <th id=\"T_55675_level0_col2\" class=\"col_heading level0 col2\" >similarity</th>\n",
       "    </tr>\n",
       "  </thead>\n",
       "  <tbody>\n",
       "    <tr>\n",
       "      <th id=\"T_55675_level0_row0\" class=\"row_heading level0 row0\" >257</th>\n",
       "      <td id=\"T_55675_row0_col0\" class=\"data row0 col0\" >Star Wars: Episode IV - A New Hope</td>\n",
       "      <td id=\"T_55675_row0_col1\" class=\"data row0 col1\" >['Action', 'Adventure', 'Sci-Fi']</td>\n",
       "      <td id=\"T_55675_row0_col2\" class=\"data row0 col2\" >0.46</td>\n",
       "    </tr>\n",
       "    <tr>\n",
       "      <th id=\"T_55675_level0_row1\" class=\"row_heading level0 row1\" >2977</th>\n",
       "      <td id=\"T_55675_row1_col0\" class=\"data row1 col0\" >Adventures of Buckaroo Banzai Across the 8th Dimension, The</td>\n",
       "      <td id=\"T_55675_row1_col1\" class=\"data row1 col1\" >['Adventure', 'Comedy', 'Sci-Fi']</td>\n",
       "      <td id=\"T_55675_row1_col2\" class=\"data row1 col2\" >0.46</td>\n",
       "    </tr>\n",
       "    <tr>\n",
       "      <th id=\"T_55675_level0_row2\" class=\"row_heading level0 row2\" >19072</th>\n",
       "      <td id=\"T_55675_row2_col0\" class=\"data row2 col0\" >Lipton Cockton in the Shadows of Sodoma</td>\n",
       "      <td id=\"T_55675_row2_col1\" class=\"data row2 col1\" >['Drama', 'Mystery', 'Sci-Fi']</td>\n",
       "      <td id=\"T_55675_row2_col2\" class=\"data row2 col2\" >0.45</td>\n",
       "    </tr>\n",
       "    <tr>\n",
       "      <th id=\"T_55675_level0_row3\" class=\"row_heading level0 row3\" >15903</th>\n",
       "      <td id=\"T_55675_row3_col0\" class=\"data row3 col0\" >Frankie and Alice</td>\n",
       "      <td id=\"T_55675_row3_col1\" class=\"data row3 col1\" >['Drama']</td>\n",
       "      <td id=\"T_55675_row3_col2\" class=\"data row3 col2\" >0.43</td>\n",
       "    </tr>\n",
       "    <tr>\n",
       "      <th id=\"T_55675_level0_row4\" class=\"row_heading level0 row4\" >56167</th>\n",
       "      <td id=\"T_55675_row4_col0\" class=\"data row4 col0\" >The Last Scout</td>\n",
       "      <td id=\"T_55675_row4_col1\" class=\"data row4 col1\" >['Sci-Fi']</td>\n",
       "      <td id=\"T_55675_row4_col2\" class=\"data row4 col2\" >0.42</td>\n",
       "    </tr>\n",
       "  </tbody>\n",
       "</table>\n"
      ],
      "text/plain": [
       "<pandas.io.formats.style.Styler at 0x265c6bcb520>"
      ]
     },
     "metadata": {},
     "output_type": "display_data"
    }
   ],
   "source": [
    "user_id = 8865\n",
    "recommend_movies_by_user_tags(user_id=user_id, top_n=5, top_n_tags=20)"
   ]
  }
 ],
 "metadata": {
  "kernelspec": {
   "display_name": "nlp_vu",
   "language": "python",
   "name": "python3"
  },
  "language_info": {
   "codemirror_mode": {
    "name": "ipython",
    "version": 3
   },
   "file_extension": ".py",
   "mimetype": "text/x-python",
   "name": "python",
   "nbconvert_exporter": "python",
   "pygments_lexer": "ipython3",
   "version": "3.11.9"
  }
 },
 "nbformat": 4,
 "nbformat_minor": 2
}
